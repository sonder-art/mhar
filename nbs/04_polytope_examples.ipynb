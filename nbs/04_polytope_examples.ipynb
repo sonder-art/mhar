{
 "cells": [
  {
   "cell_type": "markdown",
   "metadata": {},
   "source": [
    "# Polytope Examples"
   ]
  },
  {
   "cell_type": "code",
   "execution_count": 1,
   "metadata": {},
   "outputs": [],
   "source": [
    "#| default_exp polytope_examples"
   ]
  },
  {
   "cell_type": "code",
   "execution_count": 2,
   "metadata": {},
   "outputs": [],
   "source": [
    "#| export\n",
    "import torch\n",
    "\n",
    "from mhar.polytope import Polytope, NFDPolytope\n",
    "from mhar.inner_point import ChebyshevCenter"
   ]
  },
  {
   "cell_type": "code",
   "execution_count": 3,
   "metadata": {},
   "outputs": [],
   "source": [
    "#| export\n",
    "class Hypercube(Polytope):\n",
    "    \n",
    "    def __init__(self,\n",
    "                 n:int=None,\n",
    "                 dtype=torch.float16, \n",
    "                 copy: bool = False, \n",
    "                 requires_grad: bool = False) -> None:\n",
    "        \n",
    "        A_in = torch.cat((torch.eye(n), torch.eye(n) * -1.0), dim=0).to(dtype)\n",
    "        b_in = torch.ones(2 * n, dtype=torch.float32).view(-1, 1)        \n",
    "        super().__init__(A_in, b_in, dtype, copy, requires_grad)"
   ]
  },
  {
   "cell_type": "code",
   "execution_count": 4,
   "metadata": {},
   "outputs": [
    {
     "name": "stdout",
     "output_type": "stream",
     "text": [
      "/home/uumami/sonder.art/mhar/mhar/polytope.py:92: UserWarning:\n",
      "  The dtype torch.float16 is typically used with GPU architectures. If you are using CPU, consider\n",
      "  using 32 or 64-bit dtypes. Certain operations may be casted to 32 or 64 bits to enhance numerical\n",
      "  stability.\n",
      "\n",
      "/home/uumami/sonder.art/mhar/mhar/polytope.py:40: UserWarning:\n",
      "  The object will not create a copy of the tensors, so modifications will be reflected in the object\n",
      "\n"
     ]
    },
    {
     "data": {
      "text/plain": [
       "Numeric Precision (dtype) torch.float16\n",
       "Device: cpu\n",
       "A_in: torch.Size([2000, 1000]) \n",
       "b_in: torch.Size([2000, 1])"
      ]
     },
     "execution_count": 4,
     "metadata": {},
     "output_type": "execute_result"
    }
   ],
   "source": [
    "hypercube = Hypercube(1000,\n",
    "                      dtype=torch.float16\n",
    "                      )\n",
    "hypercube"
   ]
  },
  {
   "cell_type": "code",
   "execution_count": 5,
   "metadata": {},
   "outputs": [],
   "source": [
    "#| export\n",
    "\n",
    "class Simplex(NFDPolytope):\n",
    "    \n",
    "    def __init__(self,\n",
    "                 n:int=None,\n",
    "                 dtype=torch.float16, \n",
    "                 copy: bool = False, \n",
    "                 requires_grad: bool = False) -> None:\n",
    "        \n",
    "        A_in = torch.eye(n).to(dtype) * -1.0\n",
    "        b_in = torch.empty(n, 1, dtype=dtype)\n",
    "        b_in.fill_(0.0)\n",
    "\n",
    "        # Create Equalities\n",
    "        A_eq = torch.empty(1, n, dtype=dtype)\n",
    "        A_eq.fill_(1.0)\n",
    "        b_eq = torch.empty(1, 1, dtype=dtype)\n",
    "        b_eq.fill_(1.0) \n",
    "             \n",
    "        super().__init__(A_in, b_in, A_eq, b_eq,dtype, copy, requires_grad)"
   ]
  },
  {
   "cell_type": "code",
   "execution_count": 6,
   "metadata": {},
   "outputs": [
    {
     "name": "stdout",
     "output_type": "stream",
     "text": [
      "/home/uumami/sonder.art/mhar/mhar/polytope.py:140: UserWarning:\n",
      "  Float16 precision was selected, since there are some equality restrictions a Projection matrix\n",
      "  must be computed. Be sure to evaluate the numerical stability of the algorithm.\n",
      "\n",
      "/home/uumami/sonder.art/mhar/mhar/polytope.py:92: UserWarning:\n",
      "  The dtype torch.float16 is typically used with GPU architectures. If you are using CPU, consider\n",
      "  using 32 or 64-bit dtypes. Certain operations may be casted to 32 or 64 bits to enhance numerical\n",
      "  stability.\n",
      "\n",
      "/home/uumami/sonder.art/mhar/mhar/polytope.py:40: UserWarning:\n",
      "  The object will not create a copy of the tensors, so modifications will be reflected in the object\n",
      "\n",
      "Max non zero error for term (A A')^(-1)A at precision torch.float16:  tensor(0., device='cuda:0', dtype=torch.float16)\n"
     ]
    },
    {
     "data": {
      "text/plain": [
       "Numeric Precision (dtype) torch.float16\n",
       "Device: cpu\n",
       "A_in: torch.Size([100, 100]) \n",
       "b_in: torch.Size([100, 1])\n",
       "A_eq: torch.Size([1, 100]) \n",
       "b_eq: torch.Size([1, 1])\n",
       "Projection Matrix: torch.Size([100, 100])"
      ]
     },
     "execution_count": 6,
     "metadata": {},
     "output_type": "execute_result"
    }
   ],
   "source": [
    "simplex = Simplex(\n",
    "    n=100,\n",
    "    dtype=torch.float16,\n",
    "    copy=False,\n",
    "    requires_grad=False\n",
    ")\n",
    "simplex.compute_projection_matrix(device='cuda')\n",
    "simplex"
   ]
  }
 ],
 "metadata": {
  "kernelspec": {
   "display_name": ".venv",
   "language": "python",
   "name": "python3"
  },
  "language_info": {
   "codemirror_mode": {
    "name": "ipython",
    "version": 3
   },
   "file_extension": ".py",
   "mimetype": "text/x-python",
   "name": "python",
   "nbconvert_exporter": "python",
   "pygments_lexer": "ipython3",
   "version": "3.11.5"
  }
 },
 "nbformat": 4,
 "nbformat_minor": 2
}
