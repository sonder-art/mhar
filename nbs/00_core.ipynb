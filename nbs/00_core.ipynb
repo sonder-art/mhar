{
 "cells": [
  {
   "cell_type": "markdown",
   "metadata": {},
   "source": [
    "# core\n",
    "\n",
    "> `mhar` Mentat/Matrix Hit and Run the fastest polytope sampler."
   ]
  },
  {
   "cell_type": "markdown",
   "metadata": {},
   "source": [
    "Library for sampling polytopes in matrix definition:  \n",
    " $A^Ix \\leq b^I$  \n",
    " $A^Ex = b^E$  \n",
    " Focused on leveraging GPU architechtures.\n"
   ]
  },
  {
   "cell_type": "markdown",
   "metadata": {},
   "source": [
    "You can see the published peer reviwed paper [here](https://link.springer.com/article/10.1007/s00180-023-01411-y)  \n",
    "The preprint in Arxiv [here](https://link.springer.com/article/10.1007/s00180-023-01411-y)  \n",
    "A conference presentation explaining the inner workings of the algorithm [here](https://www.youtube.com/watch?v=o2CxnI6onts)"
   ]
  },
  {
   "cell_type": "code",
   "execution_count": null,
   "metadata": {},
   "outputs": [],
   "source": [
    "#| default_exp core"
   ]
  },
  {
   "cell_type": "code",
   "execution_count": null,
   "metadata": {},
   "outputs": [],
   "source": [
    "#| hide\n",
    "from nbdev.showdoc import *"
   ]
  },
  {
   "cell_type": "code",
   "execution_count": null,
   "metadata": {},
   "outputs": [],
   "source": [
    "#| hide\n",
    "import nbdev; nbdev.nbdev_export()"
   ]
  },
  {
   "cell_type": "markdown",
   "metadata": {},
   "source": [
    "# Installation"
   ]
  },
  {
   "cell_type": "markdown",
   "metadata": {},
   "source": [
    "`pip install mhar`"
   ]
  }
 ],
 "metadata": {
  "kernelspec": {
   "display_name": "python3",
   "language": "python",
   "name": "python3"
  }
 },
 "nbformat": 4,
 "nbformat_minor": 4
}
