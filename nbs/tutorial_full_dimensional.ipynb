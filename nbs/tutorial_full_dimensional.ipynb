{
 "cells": [
  {
   "cell_type": "markdown",
   "metadata": {},
   "source": [
    "<a target=\"_blank\" href=\"https://colab.research.google.com/github/sonder-art/mhar/blob/released/nbs/tutorial_full_dimensional.ipynb\">\n",
    "  <img src=\"https://colab.research.google.com/assets/colab-badge.svg\" alt=\"Open In Colab\"/>\n",
    "</a>"
   ]
  },
  {
   "cell_type": "markdown",
   "metadata": {},
   "source": [
    "This tutorial will show how to use `mhar` for sampling full dimensional polytopes. It is focused on executing parallel MCMC walks over a polytope in GPUs. If you want to se a tutorial on how to sample non-full dimensional polytopes see [tutorial](https://github.com/sonder-art/mhar/blob/released/nbs/tutorial_nonfull_dimensional.ipynb)"
   ]
  },
  {
   "cell_type": "code",
   "execution_count": 1,
   "metadata": {},
   "outputs": [],
   "source": [
    "import torch"
   ]
  },
  {
   "cell_type": "markdown",
   "metadata": {},
   "source": [
    "Before starting let's check if you have an avaialble gpu device or not."
   ]
  },
  {
   "cell_type": "code",
   "execution_count": 2,
   "metadata": {},
   "outputs": [
    {
     "name": "stdout",
     "output_type": "stream",
     "text": [
      "Device: cuda\n"
     ]
    }
   ],
   "source": [
    "device = torch.device('cuda' if torch.cuda.is_available() else 'cpu').type\n",
    "print('Device:', device)"
   ]
  },
  {
   "cell_type": "markdown",
   "metadata": {},
   "source": [
    "We also need to decide the data-type `dtype` we are going to use. Depending on your necessities you can choose it, we recomend to use `64` bits for non-fully dimentional polytopes in order to maintain numerical inestability of the projections. Otherwiise the precision depends on the dimension of your polytope and speed you want.  \n",
    "  \n",
    "As of now `16` bit precision is only available for `gpu` and not `cpu`."
   ]
  },
  {
   "cell_type": "code",
   "execution_count": 3,
   "metadata": {},
   "outputs": [],
   "source": [
    "# We will choose 64-bits\n",
    "dtype = torch.float64"
   ]
  },
  {
   "cell_type": "markdown",
   "metadata": {},
   "source": [
    "## Canonical Representation"
   ]
  },
  {
   "cell_type": "markdown",
   "metadata": {},
   "source": [
    "The polytope in question must be presented in matrix canonical representation (as opposed to vertex). `mhar` assumes that the matrix has no repeated or redundant restrictions."
   ]
  },
  {
   "cell_type": "markdown",
   "metadata": {},
   "source": [
    "## Fully dimensional Polytopes  "
   ]
  },
  {
   "cell_type": "markdown",
   "metadata": {},
   "source": [
    "### Definition"
   ]
  },
  {
   "cell_type": "markdown",
   "metadata": {},
   "source": [
    "> $A^IX \\leq b^I$"
   ]
  },
  {
   "cell_type": "markdown",
   "metadata": {},
   "source": [
    "For fully dimensional polytopes we need to use the class `Polytope` in the `mhar.polytope` module. The restrictions must be passed as pytorch tensors.  \n",
    "  \n",
    "We will sample the unit hypercube that is defined as:  \n",
    "> $n-hypercube = \\{x \\in R^n || x \\in [-1,1]^n \\} $  \n",
    "\n",
    "Which we can represent in matrix restrictions:  \n",
    "$ Ix \\leq 1$  \n",
    "$ -Ix \\leq 1$  \n",
    "Where $I$ is the identity matrix of dimension $n \\times n$ \n"
   ]
  },
  {
   "cell_type": "markdown",
   "metadata": {},
   "source": [
    "We will use this restrictions to define the polytope as:  \n",
    "$A^Ix = [I | -I]x \\leq 1 = b^I$"
   ]
  },
  {
   "cell_type": "markdown",
   "metadata": {},
   "source": [
    "#### Definition-Code"
   ]
  },
  {
   "cell_type": "markdown",
   "metadata": {},
   "source": [
    "Lets create the tensors to represent the restrictions that define the polytope."
   ]
  },
  {
   "cell_type": "code",
   "execution_count": 4,
   "metadata": {},
   "outputs": [
    {
     "name": "stdout",
     "output_type": "stream",
     "text": [
      "Inequality Matrix A^I \n",
      " tensor([[ 1.,  0.,  0.],\n",
      "        [ 0.,  1.,  0.],\n",
      "        [ 0.,  0.,  1.],\n",
      "        [-1., -0., -0.],\n",
      "        [-0., -1., -0.],\n",
      "        [-0., -0., -1.]]) \n",
      "\n",
      "Inequality Vector b^I \n",
      " tensor([[1.],\n",
      "        [1.],\n",
      "        [1.],\n",
      "        [1.],\n",
      "        [1.],\n",
      "        [1.]])\n"
     ]
    }
   ],
   "source": [
    "n = 3 # Dimension\n",
    "dtype = torch.float32 # Precision \n",
    "A_I = torch.cat((torch.eye(n), torch.eye(n) * -1.0), dim=0).to(dtype) # Inequality Matrix\n",
    "b_I = torch.ones(2 * n, dtype=dtype).view(-1, 1)  # Inequality restriction vector      \n",
    "print(f'Inequality Matrix A^I \\n {A_I} \\n')\n",
    "print(f'Inequality Vector b^I \\n {b_I}')"
   ]
  },
  {
   "cell_type": "markdown",
   "metadata": {},
   "source": [
    "Now lets create a `Polytope` object to represent the polytope."
   ]
  },
  {
   "cell_type": "code",
   "execution_count": 5,
   "metadata": {},
   "outputs": [
    {
     "name": "stdout",
     "output_type": "stream",
     "text": [
      "/home/uumami/sonder-art/mhar/mhar/polytope.py:45: UserWarning:\n",
      "  The object will not create a copy of the tensors, so modifications will be reflected in the object\n",
      "\n"
     ]
    }
   ],
   "source": [
    "from mhar.polytope import Polytope\n",
    "hypercube = Polytope(A_I, # Inequality Restriction Matrix \n",
    "                     b_I,  # Inequality Vector\n",
    "                     dtype, # torch dtype\n",
    "                     device, # device used cpu or cuda\n",
    "                     copy=False # bool for creating a copy of the restrictions\n",
    "                     )"
   ]
  },
  {
   "cell_type": "code",
   "execution_count": 6,
   "metadata": {},
   "outputs": [
    {
     "data": {
      "text/plain": [
       "Numeric Precision (dtype) torch.float32\n",
       "Device: cuda\n",
       "A_in: torch.Size([6, 3]) \n",
       "b_in: torch.Size([6, 1])"
      ]
     },
     "execution_count": 6,
     "metadata": {},
     "output_type": "execute_result"
    }
   ],
   "source": [
    "hypercube"
   ]
  },
  {
   "cell_type": "markdown",
   "metadata": {},
   "source": [
    "### Starting Inner Point(s)"
   ]
  },
  {
   "cell_type": "markdown",
   "metadata": {},
   "source": [
    "In order to start the algorithm we need at least one inner point $x_0$. If you know your inner point you can supply it to the algorithm, `mhar` also contains functions to compute one inner point using the [chebyshev center](https://en.wikipedia.org/wiki/Chebyshev_center) which finds the center of the smallest ball inside the polytope.\n",
    "\n",
    " `from mhar.inner_point import ChebyshevCenter`. The solver is in numpy so precision must be specified as `numpy.dtype`. It uses `linprog` from `scipy.optimize`. You can see the documentation [here](https://docs.scipy.org/doc/scipy/reference/generated/scipy.optimize.linprog.html). \n",
    "  \n",
    "It could also be the last points produced by a previous walk/run of the `mhar` "
   ]
  },
  {
   "cell_type": "code",
   "execution_count": 7,
   "metadata": {},
   "outputs": [],
   "source": [
    "from mhar.inner_point import ChebyshevCenter\n",
    "import numpy as np"
   ]
  },
  {
   "cell_type": "code",
   "execution_count": 8,
   "metadata": {},
   "outputs": [
    {
     "name": "stdout",
     "output_type": "stream",
     "text": [
      "\n",
      "Simplex Status for the Chebyshev Center\n",
      " Optimization proceeding nominally.\n"
     ]
    }
   ],
   "source": [
    "x0 = ChebyshevCenter(polytope=hypercube, # Polytope Object\n",
    "                    lb=None,  # Lowerbound (lb <= x ), if unknown leave it as None \n",
    "                    ub=None,  # Upperbound ( x <= up), if unknown leave it as None \n",
    "                    tolerance=1e-4, # Tolerance for equality restrictions (A_eqx = b_eq)\n",
    "                    device='cuda', # device used cpu or cuda\n",
    "                    solver_precision=np.float32 # numpy dtype\n",
    "                    )"
   ]
  },
  {
   "cell_type": "code",
   "execution_count": 9,
   "metadata": {},
   "outputs": [
    {
     "data": {
      "text/plain": [
       "tensor([[-0.],\n",
       "        [-0.],\n",
       "        [-0.]], device='cuda:0')"
      ]
     },
     "execution_count": 9,
     "metadata": {},
     "output_type": "execute_result"
    }
   ],
   "source": [
    "x0"
   ]
  },
  {
   "cell_type": "markdown",
   "metadata": {},
   "source": [
    "If we want to manually input the inner points then it is enough to use a torch tensor of size $n \\times l$. Where $l$ is ne number of inner points you want to supply. Just write them in column notation.  \n",
    "  \n",
    "We are going to manually add an other starting point to the one calcualted by the `chebyshev center` to show its functionality later."
   ]
  },
  {
   "cell_type": "code",
   "execution_count": 10,
   "metadata": {},
   "outputs": [
    {
     "data": {
      "text/plain": [
       "tensor([[-0.0000, 0.5000],\n",
       "        [-0.0000, 0.5000],\n",
       "        [-0.0000, 0.5000]], device='cuda:0')"
      ]
     },
     "execution_count": 10,
     "metadata": {},
     "output_type": "execute_result"
    }
   ],
   "source": [
    "x0 = torch.cat([x0, \n",
    "            torch.tensor([[.5], [.5], [.5]]).to(device).to(dtype)\n",
    "             ], dim=1)\n",
    "x0"
   ]
  },
  {
   "cell_type": "markdown",
   "metadata": {},
   "source": [
    "Now we can proceed to sample the `polytope`"
   ]
  },
  {
   "cell_type": "markdown",
   "metadata": {},
   "source": [
    "### Walk"
   ]
  },
  {
   "cell_type": "markdown",
   "metadata": {},
   "source": [
    "We are going to sample the polytope starting from the inner points we supply using the method `walk.walk`. It has the next arguments:"
   ]
  },
  {
   "cell_type": "markdown",
   "metadata": {},
   "source": [
    "+ `polytope` is an object of the type `Polytope` or `NFDPolytope` that defines it.\n",
    "+ `X0` a tensor containing the inner points to start the walks from.\n",
    "+ `z` determines the number of simoultaneous `walks`. If the number of initial points supplied are less than `z`  ($ncols($ `x0` $) < $ `z`) then some points will be reused as starting points.  \n",
    "+ `T` is the number of uncorrelated iterations you want. The number of total uncorrelated points produced by the algorithm is `z` $\\times$ `T`, since `z` points are sampled at each iteration.  \n",
    "+ `thinning` determines the number of points that we need to burn between iterations in order to get uncorrelated points. The suggested factor should be in the order of $O(n^3)$.\n",
    "+ `warm` determines a thinning for warming the walks only at the beggining, after the this war the walks resumes as normal. It is used if you want to lose the dependency from the starting points.\n",
    "+ `device` device where the tenros live `cpu` or `cuda`\n",
    "+ `seed` for reproducibility\n",
    "+ `verbosity` for printing what is going on"
   ]
  },
  {
   "cell_type": "code",
   "execution_count": 17,
   "metadata": {},
   "outputs": [
    {
     "name": "stdout",
     "output_type": "stream",
     "text": [
      "Minimum number allowed -3.4028234663852886e+38\n",
      "Maximum number allowed 3.4028234663852886e+38\n",
      "Eps:  1.1920928955078125e-07\n",
      "Values close to zero will be converted to 3eps or -3eps: 3.5762786865234375e-07\n",
      "n:  3   mI: 6   mE: None   z: 100\n",
      "% of burned samples |██████████████████████████████| 100.0%\n",
      "% of iid samples |██████████████████████████████| 100.0%\n"
     ]
    }
   ],
   "source": [
    "from mhar.walk import walk\n",
    "X = walk(polytope=hypercube,\n",
    "        X0 = x0,  \n",
    "        z=100, \n",
    "        T=1, \n",
    "        warm=0,\n",
    "        thinning=3**3, \n",
    "        device= None, \n",
    "        seed=None,\n",
    "        verbosity=2\n",
    ")"
   ]
  },
  {
   "cell_type": "markdown",
   "metadata": {},
   "source": [
    "`walk` produces `T` $\\times$ `z` uncorrelated points. It returns a vector of dimension `T` $\\times$ `z` $\\times$ `n`.  "
   ]
  },
  {
   "cell_type": "code",
   "execution_count": 18,
   "metadata": {},
   "outputs": [
    {
     "data": {
      "text/plain": [
       "tensor([[[-0.6127,  0.8089,  0.9789, -0.6988,  0.5368,  0.1097,  0.9752,\n",
       "          -0.3432, -0.7830,  0.4428,  0.1547,  0.0728,  0.3892,  0.9601,\n",
       "           0.1582,  0.9183, -0.3910, -0.2963, -0.0857, -0.1102,  0.8285,\n",
       "          -0.5023, -0.5564,  0.2042,  0.4193,  0.5771, -0.4552, -0.0189,\n",
       "           0.5479, -0.6841, -0.9025,  0.6026,  0.5671,  0.0486, -0.5358,\n",
       "           0.0644,  0.8480,  0.0827, -0.1241,  0.6691,  0.1294,  0.1218,\n",
       "           0.6437, -0.3485,  0.0271,  0.4424, -0.4029, -0.1587, -0.1941,\n",
       "           0.1400,  0.4546, -0.0373, -0.8556, -0.9036, -0.5793,  0.9930,\n",
       "           0.3530, -0.4537,  0.7579,  0.0417, -0.7985, -0.8154, -0.1402,\n",
       "           0.8243, -0.2491,  0.6260,  0.7779,  0.2596,  0.4194,  0.1624,\n",
       "          -0.1266,  0.3414, -0.3425, -0.1050, -0.5034,  0.6345, -0.8320,\n",
       "           0.3718,  0.3144, -0.5869, -0.8809, -0.2634,  0.9745, -0.7064,\n",
       "          -0.1577,  0.5086,  0.2419, -0.8145,  0.3439, -0.6100, -0.2184,\n",
       "           0.7732,  0.8868,  0.0066,  0.1479, -0.3869, -0.3859,  0.2720,\n",
       "           0.3218,  0.8913],\n",
       "         [-0.2005,  0.6116, -0.1874, -0.4789,  0.4057, -0.8402, -0.2925,\n",
       "           0.7781,  0.7236,  0.1598, -0.5392,  0.3030,  0.5607, -0.8452,\n",
       "           0.6365,  0.6164,  0.0190, -0.0549, -0.8402, -0.4785, -0.2048,\n",
       "          -0.2567,  0.4664, -0.6827, -0.5959,  0.5580, -0.0236, -0.3282,\n",
       "           0.0528, -0.0901,  0.2296, -0.8599,  0.6309,  0.4893, -0.9346,\n",
       "          -0.2594,  0.5794, -0.5235, -0.3126,  0.5570,  0.1730, -0.4571,\n",
       "          -0.7125, -0.9888,  0.4718, -0.4086, -0.5282, -0.8092, -0.5903,\n",
       "           0.5086,  0.2090,  0.0965,  0.1607, -0.1438, -0.8386, -0.1249,\n",
       "          -0.4281, -0.5335, -0.8790, -0.5803,  0.0156,  0.3147,  0.5839,\n",
       "           0.9702, -0.1973, -0.6170, -0.2811,  0.8950, -0.7892,  0.1442,\n",
       "           0.1596, -0.2724, -0.5044, -0.0562,  0.4392, -0.5065,  0.9546,\n",
       "           0.7053,  0.9090,  0.9283, -0.2011,  0.9309,  0.0049, -0.0590,\n",
       "          -0.3737,  0.3460,  0.5393,  0.6325,  0.2145,  0.2511, -0.0564,\n",
       "           0.6311, -0.1567, -0.9630, -0.3331, -0.7464,  0.1784,  0.4044,\n",
       "           0.9538,  0.5204],\n",
       "         [ 0.2222,  0.3173, -0.5233, -0.8488, -0.2607,  0.0211,  0.1352,\n",
       "          -0.3736, -0.3926,  0.0326, -0.4109, -0.0160, -0.4027,  0.8953,\n",
       "          -0.5593, -0.0497,  0.5427, -0.7249,  0.0983, -0.1338, -0.5087,\n",
       "          -0.8582,  0.4252, -0.5578, -0.4893, -0.9000, -0.6599, -0.6969,\n",
       "           0.9722, -0.2707,  0.7548, -0.7937,  0.1706, -0.9565,  0.7484,\n",
       "           0.4669, -0.6026,  0.6757,  0.3906,  0.0078,  0.1750, -0.6586,\n",
       "          -0.9851, -0.0179, -0.4257, -0.9410,  0.2133, -0.7550, -0.7127,\n",
       "           0.4672, -0.5373,  0.1676,  0.9985, -0.9629,  0.3148,  0.8245,\n",
       "           0.8282,  0.3614, -0.5612, -0.4848,  0.0056, -0.8627, -0.2164,\n",
       "           0.2114, -0.0058,  0.8729, -0.6262,  0.1758,  0.5835, -0.8227,\n",
       "          -0.8494, -0.2631, -0.3560, -0.1856, -0.6295, -0.7148,  0.9262,\n",
       "           0.0387, -0.4045,  0.2865,  0.6264, -0.4851,  0.9627, -0.1836,\n",
       "          -0.4906, -0.3329,  0.7808, -0.3840, -0.6642,  0.3439, -0.7333,\n",
       "          -0.7122, -0.2860, -0.0668,  0.5533,  0.5934,  0.3748,  0.7197,\n",
       "           0.1041,  0.3111]]])"
      ]
     },
     "execution_count": 18,
     "metadata": {},
     "output_type": "execute_result"
    }
   ],
   "source": [
    "X"
   ]
  },
  {
   "cell_type": "code",
   "execution_count": 19,
   "metadata": {},
   "outputs": [
    {
     "data": {
      "text/plain": [
       "torch.Size([1, 3, 100])"
      ]
     },
     "execution_count": 19,
     "metadata": {},
     "output_type": "execute_result"
    }
   ],
   "source": [
    "X.shape"
   ]
  },
  {
   "cell_type": "markdown",
   "metadata": {},
   "source": [
    "### Summary"
   ]
  },
  {
   "cell_type": "markdown",
   "metadata": {},
   "source": [
    "To sumamrize the steps taken we can use the `polytope_examples` for creating a `Hypercube`."
   ]
  },
  {
   "cell_type": "code",
   "execution_count": 13,
   "metadata": {},
   "outputs": [
    {
     "name": "stdout",
     "output_type": "stream",
     "text": [
      "/home/uumami/sonder-art/mhar/mhar/polytope.py:45: UserWarning:\n",
      "  The object will not create a copy of the tensors, so modifications will be reflected in the object\n",
      "\n"
     ]
    }
   ],
   "source": [
    "from mhar.polytope_examples import Hypercube\n",
    "\n",
    "# Create a polytope (Hypercube)\n",
    "hypercube_sim = Hypercube(10,\n",
    "                      dtype=torch.float32,\n",
    "                      device='cuda'\n",
    "                      )"
   ]
  },
  {
   "cell_type": "markdown",
   "metadata": {},
   "source": [
    "Define/Find inner points"
   ]
  },
  {
   "cell_type": "code",
   "execution_count": 14,
   "metadata": {},
   "outputs": [
    {
     "name": "stdout",
     "output_type": "stream",
     "text": [
      "\n",
      "Simplex Status for the Chebyshev Center\n",
      " Optimization proceeding nominally.\n"
     ]
    }
   ],
   "source": [
    "x0_sim = ChebyshevCenter(polytope=hypercube_sim, \n",
    "                    lb=None, \n",
    "                    ub=None, \n",
    "                    tolerance=1e-4,\n",
    "                    device='cuda',\n",
    "                    solver_precision=np.float32)\n",
    "\n"
   ]
  },
  {
   "cell_type": "markdown",
   "metadata": {},
   "source": [
    "Sample points"
   ]
  },
  {
   "cell_type": "code",
   "execution_count": 15,
   "metadata": {},
   "outputs": [
    {
     "name": "stdout",
     "output_type": "stream",
     "text": [
      "Minimum number allowed -3.4028234663852886e+38\n",
      "Maximum number allowed 3.4028234663852886e+38\n",
      "Eps:  1.1920928955078125e-07\n",
      "Values close to zero will be converted to 3eps or -3eps: 3.5762786865234375e-07\n",
      "n:  10   mI: 20   mE: None   z: 100\n",
      "% of burned samples |██████████████████████████████| 100.0%\n",
      "% of iid samples |██████████████████████████████| 100.0%\n"
     ]
    },
    {
     "data": {
      "text/plain": [
       "tensor([[[-3.1998e-01, -8.8300e-01, -6.0041e-01, -3.5785e-01,  9.4090e-03,\n",
       "          -9.1916e-02, -7.6317e-01, -5.3222e-01, -8.9703e-01, -8.7063e-01,\n",
       "          -1.1481e-02, -7.8231e-01,  8.1336e-01, -2.9168e-01,  9.4914e-01,\n",
       "           5.9874e-01, -4.3935e-03,  2.1628e-01,  7.6173e-01,  2.6937e-01,\n",
       "           2.4105e-01, -9.7515e-01,  1.5412e-01, -2.5267e-01,  1.0652e-02,\n",
       "          -4.0451e-01,  9.0939e-01,  5.8938e-01,  4.9095e-01,  9.2517e-01,\n",
       "          -6.8194e-01,  4.6277e-01,  9.4680e-01,  1.8939e-01, -9.4760e-01,\n",
       "           1.5749e-01,  4.0214e-02, -8.7604e-01,  9.6388e-01, -1.2118e-01,\n",
       "           8.3994e-01, -3.0281e-01, -9.9271e-01, -4.1503e-01,  6.7738e-01,\n",
       "          -7.7913e-01,  1.5857e-01, -1.4566e-01,  2.9453e-01,  9.8420e-01,\n",
       "           4.7988e-02,  9.3964e-01, -1.8877e-01, -4.8837e-01,  8.7884e-02,\n",
       "          -6.5161e-01, -9.0205e-01, -4.3728e-01,  6.5158e-01,  9.5481e-01,\n",
       "          -4.3082e-01,  2.6779e-01, -9.9665e-01,  2.7433e-01,  2.3229e-01,\n",
       "          -8.9123e-01, -7.5713e-01,  1.5027e-01,  1.0147e-02, -7.1832e-01,\n",
       "           6.0372e-01, -2.5333e-01,  8.2407e-01, -6.8713e-01,  1.5636e-01,\n",
       "          -9.1360e-01,  7.0024e-01,  1.6117e-01, -3.5983e-01, -2.9121e-01,\n",
       "          -7.1511e-01,  8.3170e-01, -2.7812e-01, -4.6519e-01,  1.1641e-01,\n",
       "           8.7224e-01, -4.1571e-01, -4.5533e-01,  8.5983e-01, -4.8708e-01,\n",
       "          -5.3118e-01,  7.1382e-01,  6.2641e-01,  1.4342e-01, -7.2832e-01,\n",
       "           2.5736e-01, -9.6981e-01, -6.6956e-02, -5.4313e-01, -6.1396e-01],\n",
       "         [ 6.5834e-01,  8.2491e-01,  9.3607e-01, -2.3945e-01,  5.2286e-02,\n",
       "          -4.5103e-01, -7.1135e-01,  1.0610e-01,  4.0268e-02, -7.9685e-01,\n",
       "          -4.7939e-01,  9.9298e-01,  8.1759e-02,  8.1539e-01,  3.4883e-01,\n",
       "          -8.2220e-01,  9.8733e-01, -6.0195e-01, -3.9855e-01, -2.0670e-01,\n",
       "          -3.3205e-01, -1.9968e-01, -6.9882e-01,  3.4734e-02,  5.5560e-01,\n",
       "           2.3289e-01,  4.1550e-01,  9.7268e-01,  3.5580e-01,  5.4432e-01,\n",
       "          -9.6519e-01, -2.1900e-01, -9.0462e-01,  4.6985e-01,  5.2327e-01,\n",
       "           3.8366e-01,  5.7125e-01, -1.8627e-02, -8.1858e-01,  6.0081e-01,\n",
       "          -2.4651e-01,  3.2471e-01, -6.8340e-01, -9.6173e-02,  5.2697e-01,\n",
       "          -3.9819e-01, -7.6886e-01, -9.7460e-01, -2.4842e-01, -9.6717e-03,\n",
       "          -1.1002e-02,  8.9569e-01, -7.8796e-01, -5.5499e-01, -1.6422e-01,\n",
       "          -2.9798e-01, -4.1347e-01, -7.0091e-02,  5.6822e-01,  7.4139e-01,\n",
       "          -2.3137e-01, -1.5906e-01,  4.5670e-01,  4.3998e-01, -8.4858e-01,\n",
       "          -9.2802e-01,  9.8061e-02, -6.8724e-01, -5.6651e-01,  7.2301e-01,\n",
       "          -4.7247e-01, -5.3208e-01,  2.5252e-01, -7.0088e-01, -1.8022e-01,\n",
       "           8.1556e-01, -5.0445e-01,  9.2895e-01,  7.6409e-01,  2.0287e-01,\n",
       "          -4.3386e-01, -7.5594e-01, -4.0946e-04, -6.4180e-01,  9.7056e-01,\n",
       "          -1.4242e-02, -5.4660e-01,  9.6446e-01,  2.5677e-01, -5.1362e-01,\n",
       "           5.8038e-03,  3.2801e-01, -4.5649e-01, -3.1026e-02,  1.6998e-01,\n",
       "           4.9551e-01, -5.7352e-01,  9.8104e-01, -3.3224e-01, -6.4370e-01],\n",
       "         [ 5.5213e-02,  6.6529e-01, -2.1926e-01, -2.3687e-01,  1.4707e-01,\n",
       "           7.0542e-01,  8.8291e-01,  4.5098e-01, -8.2014e-01, -7.6015e-01,\n",
       "           9.0903e-01,  8.8022e-01,  9.7887e-01, -8.8811e-01,  8.3679e-01,\n",
       "           6.9870e-01,  6.2136e-01,  9.7821e-01, -4.8239e-01,  9.7771e-02,\n",
       "           8.0549e-01, -5.9173e-01,  8.6558e-01,  6.3560e-01, -5.4167e-01,\n",
       "          -4.6024e-01, -7.6989e-02,  4.1146e-01,  6.6449e-01, -8.6727e-01,\n",
       "          -4.6697e-01,  3.1655e-01,  4.7246e-01,  4.1310e-01,  2.5139e-01,\n",
       "           9.1580e-01, -7.1085e-01, -5.6248e-01,  6.0501e-01, -6.9775e-01,\n",
       "           2.7204e-01,  4.4677e-01, -9.2728e-02, -9.0156e-01, -3.5226e-01,\n",
       "           9.2477e-01,  3.7044e-01, -8.6595e-01, -8.9246e-01, -7.5677e-01,\n",
       "           3.6163e-02, -4.6576e-01, -9.5112e-01,  6.9176e-01, -9.7991e-02,\n",
       "           7.5556e-01, -4.9165e-01, -8.5367e-01, -5.5799e-01, -1.4488e-01,\n",
       "          -1.2476e-01,  8.6056e-01, -1.9410e-02,  2.9675e-01, -2.7756e-01,\n",
       "          -5.0819e-01,  7.4254e-01, -7.6988e-01, -2.8181e-01, -7.2695e-01,\n",
       "          -8.1878e-01, -6.2658e-01, -1.0780e-01, -8.8181e-01,  7.7541e-01,\n",
       "          -6.0339e-02, -1.5816e-01,  5.7955e-01, -4.6183e-01,  4.1807e-02,\n",
       "          -3.1212e-01,  9.6692e-01, -8.9400e-02, -1.8202e-01,  5.3020e-01,\n",
       "          -6.2796e-01, -4.0476e-01,  4.5368e-02,  8.1286e-01, -2.6347e-01,\n",
       "           3.0103e-01,  4.8397e-01,  2.3235e-01, -7.5954e-01,  7.7521e-01,\n",
       "          -9.0204e-02,  5.4699e-02, -6.7449e-01,  9.7302e-01,  1.5030e-01],\n",
       "         [-4.5282e-01, -6.8553e-01, -4.0496e-01, -8.2789e-01, -3.1485e-01,\n",
       "          -9.3662e-01, -4.9021e-01, -1.1252e-01,  6.4035e-01,  9.5345e-02,\n",
       "           7.1114e-01,  8.5821e-01,  1.2193e-01, -2.9736e-01,  7.9260e-01,\n",
       "          -9.0053e-01, -3.0983e-01,  2.3273e-01, -5.8580e-01,  5.5600e-01,\n",
       "           5.3659e-01,  6.1862e-02,  2.5045e-01,  4.0623e-01,  3.2021e-01,\n",
       "          -6.5160e-01,  5.3635e-01,  8.3468e-02, -9.1336e-01, -6.9905e-01,\n",
       "          -8.4759e-01,  3.9174e-02, -1.5286e-01, -9.4515e-01, -2.8410e-01,\n",
       "          -6.4052e-01, -4.3185e-02, -9.0977e-02, -6.5088e-03, -6.0079e-01,\n",
       "           7.8382e-01, -5.1433e-01, -6.4693e-01, -6.1143e-01,  8.7627e-01,\n",
       "          -6.1754e-01,  5.4921e-01, -5.8434e-01,  2.8561e-02, -2.2082e-03,\n",
       "          -4.6784e-01,  8.3384e-01, -6.2354e-01, -6.3269e-01, -2.9281e-01,\n",
       "           8.8003e-01, -2.0680e-01, -2.6396e-01, -8.1808e-01, -7.3438e-01,\n",
       "          -5.8724e-01,  7.9786e-01, -7.3953e-01,  1.3706e-01,  2.3713e-01,\n",
       "          -1.8274e-02,  1.1856e-01, -3.4859e-01,  7.0255e-02,  5.7363e-01,\n",
       "           9.6601e-01,  9.8756e-01, -5.3479e-02,  5.9782e-01,  4.7027e-01,\n",
       "          -6.5214e-02,  1.8164e-01, -9.8358e-01, -3.4720e-01, -5.1453e-01,\n",
       "           8.8284e-01,  4.0962e-01,  2.5727e-01, -9.0393e-01,  2.5376e-01,\n",
       "           1.2155e-01,  7.8451e-01, -5.9948e-01,  3.7793e-01, -5.5969e-01,\n",
       "          -2.8643e-01,  9.5524e-01, -2.3043e-01,  2.9708e-01,  4.9081e-01,\n",
       "           9.3538e-01, -1.5049e-01,  3.9492e-01,  6.3072e-01, -2.6573e-01],\n",
       "         [ 5.8643e-01,  5.6711e-01, -1.2727e-01,  9.1456e-01, -7.2193e-01,\n",
       "          -7.0366e-01,  8.8002e-01, -8.0583e-01,  9.3288e-01,  6.2864e-01,\n",
       "          -1.6898e-02,  2.2955e-02, -4.7393e-01, -3.9297e-01,  3.6075e-01,\n",
       "          -4.8488e-01,  5.9656e-01,  4.5075e-01, -5.4418e-01, -7.2764e-01,\n",
       "           6.2193e-01, -2.2684e-01,  5.5349e-01, -5.2679e-01, -2.3028e-01,\n",
       "           2.1975e-01, -5.2123e-01, -8.8481e-01, -5.9459e-01,  7.5398e-02,\n",
       "          -2.4568e-02, -3.9203e-01, -4.8476e-01,  4.3765e-01, -4.0565e-01,\n",
       "           4.5862e-01,  8.4825e-01,  4.2593e-01, -9.0287e-02, -1.8843e-01,\n",
       "          -4.2735e-01,  8.1006e-01,  3.8451e-01, -1.8077e-01, -3.8569e-01,\n",
       "           2.4986e-01, -2.6464e-01,  5.7283e-01,  6.2915e-01, -9.2420e-02,\n",
       "           2.1664e-01,  8.3322e-01, -9.5543e-01,  4.8786e-02, -3.5299e-01,\n",
       "          -8.3660e-01,  9.5842e-01, -3.4042e-01, -4.8860e-01, -6.3789e-01,\n",
       "           7.7926e-01, -5.5309e-01, -1.5072e-01,  9.5447e-01, -8.0975e-01,\n",
       "           2.7383e-01,  1.6933e-01, -1.4225e-01, -4.0448e-01, -1.8368e-01,\n",
       "          -9.4309e-01,  6.3728e-01,  9.4193e-01, -4.5120e-01, -9.3657e-01,\n",
       "           6.2831e-01, -6.8051e-01, -3.1872e-01, -6.8985e-01, -9.8656e-01,\n",
       "           3.2703e-01,  1.8802e-01,  3.8892e-01, -8.7271e-01,  1.8723e-01,\n",
       "          -9.2418e-01,  9.7637e-01, -5.1100e-02, -2.3499e-02, -8.5720e-01,\n",
       "          -6.2844e-01, -8.2487e-01, -9.7308e-01,  5.5461e-01, -2.2630e-02,\n",
       "           1.4882e-01, -1.7632e-01,  3.5162e-01,  7.2702e-01, -3.3800e-01],\n",
       "         [ 5.1659e-01,  6.2955e-01,  7.6628e-02,  9.2677e-01,  4.4320e-01,\n",
       "           4.7477e-01,  3.0120e-01, -6.0357e-01, -4.2661e-01, -3.1225e-01,\n",
       "          -5.1503e-01,  2.5901e-01,  1.5412e-01,  5.0332e-01, -3.5185e-02,\n",
       "           3.8524e-01,  7.7076e-01,  4.5330e-01,  6.9863e-01,  9.3336e-01,\n",
       "          -3.4154e-01, -9.4410e-01, -3.1750e-01,  1.4171e-01,  6.5139e-01,\n",
       "          -4.5644e-01, -3.9750e-01,  2.6058e-02, -8.7669e-01, -2.3268e-01,\n",
       "           5.0737e-01,  8.1073e-01,  6.7568e-01,  2.8514e-01,  7.3526e-01,\n",
       "           5.4714e-02, -7.6706e-01,  6.8763e-01,  9.2711e-01, -9.1985e-01,\n",
       "           4.4313e-01,  9.9319e-01,  4.2530e-01, -6.5676e-01,  4.4136e-02,\n",
       "          -1.2519e-01,  5.7538e-01,  2.9788e-01, -6.1841e-01,  1.7290e-01,\n",
       "           4.1315e-01,  3.1436e-01, -6.2821e-02,  9.8216e-01, -6.8100e-01,\n",
       "          -6.6823e-01, -8.5329e-01, -8.8406e-01,  6.7291e-01,  6.2076e-01,\n",
       "           7.9942e-01, -7.5698e-01, -3.9621e-01, -9.3115e-01,  9.1252e-01,\n",
       "           7.8089e-02, -7.6560e-01,  3.8521e-01,  1.1993e-01,  1.4024e-02,\n",
       "           5.6274e-01, -6.5881e-01,  4.6707e-01,  7.3375e-01, -6.6425e-01,\n",
       "          -7.1450e-01,  8.0542e-01,  1.5741e-02,  6.1995e-01,  3.0008e-01,\n",
       "          -7.2946e-01,  7.5028e-01,  4.9925e-01,  5.2473e-01,  4.0782e-01,\n",
       "           8.2360e-01,  2.8102e-01,  1.4997e-01,  2.8828e-01, -9.7352e-01,\n",
       "           6.0886e-01, -2.8581e-02, -4.3979e-01, -6.8167e-01, -8.1796e-01,\n",
       "          -3.2431e-01,  7.7950e-01, -7.4754e-01, -9.4537e-02,  8.7278e-01],\n",
       "         [ 8.1823e-02, -2.7412e-01, -2.5807e-01,  3.8110e-01, -8.5758e-01,\n",
       "          -9.9025e-01,  8.1751e-01, -7.5599e-01,  4.7281e-01, -9.7379e-01,\n",
       "          -1.4535e-01, -7.2469e-01,  8.1792e-01, -8.4528e-01, -3.6711e-01,\n",
       "           1.1701e-01,  3.6219e-02, -2.6746e-01, -1.2028e-01, -2.0421e-01,\n",
       "          -2.2534e-01,  3.6370e-01,  5.6693e-01,  2.8654e-02,  1.4563e-01,\n",
       "          -6.7974e-02,  3.7926e-01, -1.9950e-01,  4.2456e-01, -3.0706e-01,\n",
       "          -1.1561e-01, -2.2291e-01,  1.5754e-01,  1.6991e-01, -5.6329e-01,\n",
       "           7.7179e-01,  1.1789e-01,  3.6579e-02, -1.6625e-02,  9.0154e-01,\n",
       "           1.8558e-01, -6.1926e-01, -5.5420e-01,  1.7661e-01, -9.8283e-02,\n",
       "           6.3640e-01,  4.3887e-01,  3.0990e-01, -2.5151e-01,  8.8143e-01,\n",
       "           3.3655e-01, -9.3878e-01,  1.8215e-01,  7.2911e-01, -9.2904e-01,\n",
       "          -8.2802e-01,  8.9236e-01,  5.7577e-01, -6.7329e-01,  1.7445e-01,\n",
       "           2.1589e-01, -8.3884e-01, -5.5421e-01, -6.0615e-01,  3.8128e-01,\n",
       "          -5.9945e-02, -2.6233e-01, -4.3091e-01,  2.4099e-01, -4.6078e-01,\n",
       "           9.3064e-01, -8.0690e-01,  8.9856e-01, -9.7007e-01,  2.9621e-01,\n",
       "          -5.9816e-01, -1.4726e-01,  9.4123e-01,  6.7366e-01,  5.9926e-02,\n",
       "           4.6238e-01, -4.9854e-02,  2.5087e-02, -5.0581e-01, -9.1211e-02,\n",
       "           9.9019e-01,  1.6394e-01, -5.1241e-01, -3.3677e-01, -2.1160e-01,\n",
       "          -8.5046e-02,  4.8960e-01, -8.8819e-01, -1.0910e-01, -2.5549e-01,\n",
       "          -7.3226e-01,  9.0305e-01,  6.3884e-01, -8.2376e-01,  4.0486e-01],\n",
       "         [-7.6013e-01,  9.9904e-01,  8.8079e-02,  9.0727e-01, -5.2298e-01,\n",
       "          -8.8995e-01,  8.9315e-01,  1.0084e-01,  7.8781e-01, -9.4797e-02,\n",
       "           8.2437e-01,  9.8931e-01, -4.6112e-02,  9.9291e-01,  9.9754e-01,\n",
       "          -6.3196e-01, -4.0130e-01, -8.2930e-01,  5.2794e-01, -1.8201e-01,\n",
       "           6.4035e-01,  4.3147e-01,  3.6135e-01,  8.8577e-01, -1.4330e-02,\n",
       "           7.3108e-01, -5.4772e-01,  4.9993e-01,  3.3212e-01,  5.6611e-01,\n",
       "           7.4920e-01,  6.4940e-01,  6.2386e-01, -2.6640e-01, -6.0239e-01,\n",
       "          -6.7719e-02,  2.5743e-02, -7.8554e-01, -8.1348e-01,  3.9929e-01,\n",
       "          -3.0360e-01, -1.3168e-01,  4.6518e-01, -4.7918e-01,  2.4247e-01,\n",
       "           2.0309e-01,  8.7627e-01,  7.4410e-01, -5.9289e-01,  6.1851e-01,\n",
       "           9.0784e-01, -6.4702e-01, -7.3583e-01,  3.8852e-01,  1.5861e-01,\n",
       "           3.6294e-01, -1.3787e-01, -1.8105e-01, -1.0654e-01,  2.7455e-01,\n",
       "          -9.2666e-01,  5.3797e-01, -1.1772e-01,  4.1684e-01, -5.8485e-01,\n",
       "          -3.0456e-01,  3.1502e-02,  3.4884e-01,  2.9515e-01, -6.9745e-01,\n",
       "          -4.0283e-02, -6.0798e-01,  1.8295e-01,  8.6131e-01, -8.1746e-01,\n",
       "           7.8006e-01, -5.3312e-01,  3.7951e-01,  8.9352e-01, -2.6812e-01,\n",
       "           5.5966e-01, -7.6264e-01,  3.5440e-01, -2.5166e-02, -9.2075e-01,\n",
       "           6.3275e-01,  2.7133e-01, -9.6630e-01,  7.0027e-01, -5.5697e-01,\n",
       "           9.2697e-01,  6.8387e-01,  8.9659e-01, -9.9420e-01, -2.3199e-01,\n",
       "          -5.6483e-01, -8.2911e-01, -7.1876e-01, -2.4941e-01, -8.9367e-01],\n",
       "         [ 6.1552e-01,  2.6263e-01, -5.6160e-01,  3.0090e-01,  7.3460e-01,\n",
       "          -6.0025e-01,  1.7551e-01, -7.4900e-01,  7.7525e-02, -3.8755e-01,\n",
       "           5.4063e-01,  1.0084e-01,  2.1328e-01,  3.1664e-01, -1.6463e-01,\n",
       "           6.3506e-01,  4.1620e-01, -3.9920e-01,  9.9842e-01,  8.2372e-01,\n",
       "          -5.3032e-01, -8.3688e-01,  9.8572e-02,  9.5740e-01,  3.8986e-02,\n",
       "          -1.5228e-01, -7.3783e-01, -4.2469e-01, -1.8046e-01, -1.3181e-03,\n",
       "           6.0869e-01, -4.1560e-01, -7.1332e-01, -4.9803e-01, -7.4223e-01,\n",
       "           9.0559e-01, -8.6657e-01,  2.4235e-01, -8.1189e-01, -1.9475e-01,\n",
       "          -8.5049e-01, -5.1228e-01,  3.3390e-01,  1.2634e-01, -2.3437e-01,\n",
       "          -7.7398e-01,  7.8498e-01, -8.8165e-01,  8.9135e-01,  6.2057e-01,\n",
       "          -9.8140e-01,  1.4816e-01, -9.1306e-01, -4.8003e-01, -6.3256e-01,\n",
       "           6.2231e-01, -6.8813e-01, -2.4674e-01, -9.9461e-01, -9.1743e-01,\n",
       "           8.1268e-01, -8.6469e-01,  7.2789e-01, -8.0722e-01,  6.2868e-01,\n",
       "           9.6947e-02,  8.0541e-01, -9.9792e-01, -5.2350e-01,  3.9310e-01,\n",
       "          -6.6437e-01,  5.1088e-01,  4.4190e-01,  3.3111e-01, -2.6198e-01,\n",
       "          -8.6871e-01,  6.1038e-01,  1.9027e-01, -6.4467e-01,  3.2951e-01,\n",
       "          -4.0828e-01, -3.0676e-02,  4.5790e-01, -9.4092e-01,  4.1534e-01,\n",
       "          -2.3654e-01,  5.1719e-01, -5.1108e-01, -3.9010e-01, -1.1513e-01,\n",
       "           5.2050e-01,  5.4369e-01,  8.0676e-01, -9.6718e-01, -4.6397e-01,\n",
       "           9.9901e-01, -6.1192e-01, -9.6544e-01,  5.9819e-01,  8.6140e-01],\n",
       "         [ 4.4314e-01, -6.8971e-01, -7.9824e-01,  8.1309e-01,  2.4049e-01,\n",
       "          -3.0004e-01,  7.0548e-01,  7.0894e-01,  9.6602e-01,  1.4706e-01,\n",
       "          -4.5600e-01, -7.8880e-01, -1.8750e-01,  5.1834e-01, -1.0105e-01,\n",
       "           7.0821e-01,  5.1103e-02, -3.2753e-01,  2.7659e-01, -8.9883e-01,\n",
       "           5.3354e-01, -2.6526e-01, -7.1757e-02,  3.1655e-01,  9.8296e-01,\n",
       "          -6.2282e-01,  4.4113e-01,  9.0390e-01, -6.9629e-01,  6.3785e-01,\n",
       "           2.5477e-01, -5.4605e-01, -4.8999e-01,  7.8766e-01,  4.2579e-02,\n",
       "           6.9922e-01, -6.5877e-01, -4.3756e-01, -1.3504e-01,  3.4267e-01,\n",
       "           6.4460e-01, -8.7494e-01,  1.6832e-01,  8.2679e-01, -3.8486e-01,\n",
       "          -9.1319e-01,  7.4173e-02,  1.6585e-01, -9.5470e-01,  2.2969e-01,\n",
       "          -7.9094e-01,  9.7300e-01,  7.3877e-01,  5.4594e-01, -3.2515e-01,\n",
       "           9.0706e-01, -5.3000e-01,  1.3245e-02, -7.5417e-01, -7.8579e-01,\n",
       "           6.1648e-02,  6.6703e-01,  7.0640e-01,  3.7360e-01, -1.4019e-01,\n",
       "           4.7892e-01,  7.0235e-01, -3.8213e-01, -4.8561e-01,  6.5103e-01,\n",
       "           8.1678e-01, -2.9975e-01,  5.4275e-03, -9.3896e-01, -6.2556e-01,\n",
       "           4.9389e-01, -2.2970e-01, -7.1484e-02, -4.5109e-01, -6.8972e-01,\n",
       "           3.8300e-01,  5.5815e-01, -1.3663e-01, -6.7518e-01, -4.5674e-01,\n",
       "          -6.2213e-01, -6.7337e-01,  8.3748e-01,  2.1085e-01, -2.5667e-01,\n",
       "           5.1765e-01,  9.0770e-01,  8.1236e-01,  3.5948e-01, -6.9573e-01,\n",
       "          -2.5718e-01, -2.4540e-02,  2.1309e-01,  5.5127e-01, -5.3124e-01]]])"
      ]
     },
     "execution_count": 15,
     "metadata": {},
     "output_type": "execute_result"
    }
   ],
   "source": [
    "X_sim = walk(polytope=hypercube_sim,\n",
    "        X0 = x0_sim,  \n",
    "        z=100, \n",
    "        T=1, \n",
    "        warm=0,\n",
    "        thinning=10000, \n",
    "        device= None, \n",
    "        seed=None,\n",
    "        verbosity=2\n",
    ")\n",
    "X_sim"
   ]
  },
  {
   "cell_type": "code",
   "execution_count": 16,
   "metadata": {},
   "outputs": [
    {
     "data": {
      "text/plain": [
       "torch.Size([1, 10, 100])"
      ]
     },
     "execution_count": 16,
     "metadata": {},
     "output_type": "execute_result"
    }
   ],
   "source": [
    "X_sim.shape"
   ]
  }
 ],
 "metadata": {
  "kernelspec": {
   "display_name": ".venv",
   "language": "python",
   "name": "python3"
  },
  "language_info": {
   "codemirror_mode": {
    "name": "ipython",
    "version": 3
   },
   "file_extension": ".py",
   "mimetype": "text/x-python",
   "name": "python",
   "nbconvert_exporter": "python",
   "pygments_lexer": "ipython3",
   "version": "3.11.6"
  }
 },
 "nbformat": 4,
 "nbformat_minor": 2
}
