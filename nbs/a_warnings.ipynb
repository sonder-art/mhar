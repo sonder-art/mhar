{
 "cells": [
  {
   "cell_type": "markdown",
   "metadata": {},
   "source": [
    "# Warnings"
   ]
  },
  {
   "cell_type": "code",
   "execution_count": null,
   "metadata": {},
   "outputs": [],
   "source": [
    "#| default_exp warningss"
   ]
  },
  {
   "cell_type": "code",
   "execution_count": 1,
   "metadata": {},
   "outputs": [],
   "source": [
    "#| export\n",
    "import warnings\n",
    "import textwrap"
   ]
  },
  {
   "cell_type": "code",
   "execution_count": 3,
   "metadata": {},
   "outputs": [],
   "source": [
    "#| export\n",
    "\n",
    "# Custom warning format function with line wrapping and indentation\n",
    "def custom_warning_format(message, category, filename, lineno, line=None):\n",
    "    formatted_message = textwrap.fill(message, width=100, initial_indent='  ', subsequent_indent='  ')\n",
    "    return f\"{filename}:{lineno}: {category.__name__}:\\n{formatted_message}\\n\"\n",
    "\n",
    "# Custom warning handler\n",
    "def custom_warning(message, category, filename, lineno, file=None, line=None):\n",
    "    formatted_message = custom_warning_format(str(message), category, filename, lineno)\n",
    "    print(formatted_message)\n",
    "\n",
    "warnings.showwarning = custom_warning\n",
    "warnings.filterwarnings(\"always\")"
   ]
  }
 ],
 "metadata": {
  "kernelspec": {
   "display_name": ".venv",
   "language": "python",
   "name": "python3"
  },
  "language_info": {
   "codemirror_mode": {
    "name": "ipython",
    "version": 3
   },
   "file_extension": ".py",
   "mimetype": "text/x-python",
   "name": "python",
   "nbconvert_exporter": "python",
   "pygments_lexer": "ipython3",
   "version": "3.11.5"
  }
 },
 "nbformat": 4,
 "nbformat_minor": 2
}
