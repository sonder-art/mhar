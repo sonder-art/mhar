{
 "cells": [
  {
   "cell_type": "code",
   "execution_count": null,
   "metadata": {},
   "outputs": [],
   "source": [
    "# Find Inner Point"
   ]
  },
  {
   "cell_type": "code",
   "execution_count": null,
   "metadata": {},
   "outputs": [],
   "source": [
    "#| default_exp inner_point"
   ]
  },
  {
   "cell_type": "code",
   "execution_count": 1,
   "metadata": {},
   "outputs": [],
   "source": [
    "#| export\n",
    "from scipy.optimize import linprog\n",
    "import numpy as np\n",
    "import torch\n",
    "\n",
    "from typing import Union\n",
    "import gc\n",
    "\n",
    "from mhar.polytope import Polytope, NFDPolytope"
   ]
  },
  {
   "cell_type": "code",
   "execution_count": 3,
   "metadata": {},
   "outputs": [],
   "source": [
    "#| export\n",
    "\n",
    "def ChebyshevCenter(\n",
    "                    polytope:Union[Polytope, NFDPolytope], \n",
    "                    lb=None, # Lowerbound (lb <= x ), if unknown leave it as None \n",
    "                    ub=None, # Upperbound ( x <= up), if unknown leave it as None \n",
    "                    tolerance = 1e-4\n",
    "                    ): \n",
    "\n",
    "    ## Equality          \n",
    "    A_in = polytope.A_in.numpy()\n",
    "    b_in = polytope.b_in.numpy()\n",
    "    \n",
    "    A_in_norm = np.matrix(np.sum(A_in ** 2., axis=-1) ** (1. / 2.))\n",
    "    # Create new restriction matrices\n",
    "    A_in_norm = np.concatenate((A_in, A_in_norm.transpose()), axis=1)\n",
    "    c = np.concatenate((np.zeros(A_in.shape[1]), [-1.]))\n",
    "    del A_in \n",
    "    gc.collect()\n",
    "    \n",
    "    ## Inequality\n",
    "    if isinstance(polytope,NFDPolytope):\n",
    "        mE = polytope.mE\n",
    "        A_eq = polytope.A_eq\n",
    "        # The equality restrictions have zero norm. Is transposed to keep order\n",
    "        A_eq_norm = np.zeros((1, A_eq.shape[0]))\n",
    "        # Create new restriction matrices\n",
    "        A_eq_norm = np.concatenate((A_eq, A_eq_norm.transpose()), axis=1)\n",
    "        del A_eq\n",
    "        gc.collect()\n",
    "        b_eq = polytope.b_eq\n",
    "    else:\n",
    "        mE=0\n",
    "        A_eq_norm = None\n",
    "        b_eq = None\n",
    "        \n",
    "    r = linprog(c=c,\n",
    "        A_ub=A_in_norm,\n",
    "        b_ub=b_in,\n",
    "        A_eq=A_eq_norm,\n",
    "        b_eq=b_eq,\n",
    "        bounds = (lb, ub),\n",
    "        method= 'revised simplex')\n",
    "\n",
    "    status = {0:'Optimization proceeding nominally.',\n",
    "                1: 'Iteration limit reached.',\n",
    "                2: 'Problem appears to be infeasible.',\n",
    "                3: ' Problem appears to be unbounded.',\n",
    "                4: ' Numerical difficulties encountered.',\n",
    "            }[r.status]\n",
    "    \n",
    "    print('\\nSimplex Status for the Chebyshev Center\\n', status)\n",
    "    \n",
    "    x0 = torch.tensor(np.array(r.x[:-1], ndmin=2).transpose(), polytope.dtype)\n",
    "    b0 = torch.matmul(polytope.A_in, x0)\n",
    "    \n",
    "    assert(torch.all(b0 <= b_in )), f'Point {x0} does not satisfy A_inx <= b_in restrictions, it may have numerical inestability'\n",
    "    if mE>0:\n",
    "        assert(torch.all(torch.abs(b0 - b_eq) <= tolerance)), f'Point {x0} does not satisfy A_eqx = b_eq restrictions with tolerance {tolerance}, it may have numerical inestability'\n",
    "    return x0\n",
    "    \n",
    "    \n",
    "\n",
    "            \n"
   ]
  }
 ],
 "metadata": {
  "kernelspec": {
   "display_name": ".venv",
   "language": "python",
   "name": "python3"
  },
  "language_info": {
   "codemirror_mode": {
    "name": "ipython",
    "version": 3
   },
   "file_extension": ".py",
   "mimetype": "text/x-python",
   "name": "python",
   "nbconvert_exporter": "python",
   "pygments_lexer": "ipython3",
   "version": "3.11.5"
  }
 },
 "nbformat": 4,
 "nbformat_minor": 2
}
