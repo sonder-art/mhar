{
 "cells": [
  {
   "cell_type": "markdown",
   "metadata": {},
   "source": [
    "<a target=\"_blank\" href=\"https://colab.research.google.com/github/sonder-art/mhar/blob/released/nbs/tutorial_nonfull_dimensional.ipynb\">\n",
    "  <img src=\"https://colab.research.google.com/assets/colab-badge.svg\" alt=\"Open In Colab\"/>\n",
    "</a>"
   ]
  },
  {
   "cell_type": "markdown",
   "metadata": {},
   "source": [
    "This tutorial will show how to use `mhar` for sampling polytopes. It is focused on executing parallel MCMC walks over a polytope in GPUs."
   ]
  },
  {
   "cell_type": "code",
   "execution_count": 1,
   "metadata": {},
   "outputs": [],
   "source": [
    "import torch"
   ]
  },
  {
   "cell_type": "markdown",
   "metadata": {},
   "source": [
    "Before starting let's check if you have an avaialble gpu device or not."
   ]
  },
  {
   "cell_type": "code",
   "execution_count": 2,
   "metadata": {},
   "outputs": [
    {
     "name": "stdout",
     "output_type": "stream",
     "text": [
      "Device: cuda\n"
     ]
    }
   ],
   "source": [
    "device = torch.device('cuda' if torch.cuda.is_available() else 'cpu').type\n",
    "print('Device:', device)"
   ]
  },
  {
   "cell_type": "markdown",
   "metadata": {},
   "source": [
    "We also need to decide the data-type `dtype` we are going to use. Depending on your necessities you can choose it, we recomend to use `64` bits for non-fully dimentional polytopes in order to maintain numerical inestability of the projections. Otherwiise the precision depends on the dimension of your polytope and speed you want.  \n",
    "  \n",
    "As of now `16` bit precision is only available for `gpu` and not `cpu`."
   ]
  },
  {
   "cell_type": "code",
   "execution_count": 3,
   "metadata": {},
   "outputs": [],
   "source": [
    "# We will choose 64-bits\n",
    "dtype = torch.float64"
   ]
  },
  {
   "cell_type": "markdown",
   "metadata": {},
   "source": [
    "## Canonical Representation"
   ]
  },
  {
   "cell_type": "markdown",
   "metadata": {},
   "source": [
    "The polytope in question must be presented in matrix canonical representation (as opposed to vertex). `mhar` assumes that the matrix has no repeated or redundant restrictions."
   ]
  },
  {
   "cell_type": "markdown",
   "metadata": {},
   "source": [
    "## Non-Fully dimensional Polytopes  "
   ]
  },
  {
   "cell_type": "markdown",
   "metadata": {},
   "source": [
    "### Definition"
   ]
  },
  {
   "cell_type": "markdown",
   "metadata": {},
   "source": [
    "> $A^IX \\leq b^I$  \n",
    "> \n",
    "> $A^EX = b^E$\n"
   ]
  },
  {
   "cell_type": "markdown",
   "metadata": {},
   "source": [
    "For non-fully dimensional polytopes we need to use the class `NFDPolytope` in the `mhar.polytope` module. The restrictions must be passed as pytorch tensors.  \n",
    "  \n",
    "We will sample the unit hypercube that is defined as:  \n",
    "> $n-simplex = \\{x \\in R^n || \\sum_{i=1}^{n} x_i = 1, 0 \\leq x_i \\} $  \n",
    "\n",
    "Which we can represent in matrix restrictions:  \n",
    "$ -Ix \\leq 0$  \n",
    "$ [1]^n = 1 $  \n",
    "Where $I$ is the identity matrix of dimension $n \\times n$ \n"
   ]
  },
  {
   "cell_type": "markdown",
   "metadata": {},
   "source": [
    "#### Definition-Code"
   ]
  },
  {
   "cell_type": "markdown",
   "metadata": {},
   "source": [
    "Lets create the tensors to represent the restrictions that define the polytope. Since we need to create a projection matrix for the non-fully dimensional object we need to preserve the numerical stability of the algorithm, we suggest using 64 bits precision. "
   ]
  },
  {
   "cell_type": "code",
   "execution_count": 4,
   "metadata": {},
   "outputs": [
    {
     "name": "stdout",
     "output_type": "stream",
     "text": [
      "Inequality Matrix A^I \n",
      " tensor([[-1., -0., -0.],\n",
      "        [-0., -1., -0.],\n",
      "        [-0., -0., -1.]], dtype=torch.float64) \n",
      "\n",
      "Inequality Vector b^I \n",
      " tensor([[0.],\n",
      "        [0.],\n",
      "        [0.]], dtype=torch.float64)\n",
      "\n",
      "Equality Matrix A^E \n",
      " tensor([[1., 1., 1.]], dtype=torch.float64) \n",
      "\n",
      "Equality Vector b^E \n",
      " tensor([[1.]], dtype=torch.float64)\n"
     ]
    }
   ],
   "source": [
    "n = 3 # Dimension\n",
    "dtype = torch.float64 # Precision \n",
    "A_I = torch.eye(n).to(dtype) * -1.0\n",
    "b_I = torch.empty(n, 1, dtype=dtype)\n",
    "b_I.fill_(0.0)\n",
    "\n",
    "# Create Equalities\n",
    "A_E = torch.empty(1, n, dtype=dtype)\n",
    "A_E.fill_(1.0)\n",
    "b_E = torch.empty(1, 1, dtype=dtype)\n",
    "b_E.fill_(1.0)      \n",
    "print(f'Inequality Matrix A^I \\n {A_I} \\n')\n",
    "print(f'Inequality Vector b^I \\n {b_I}\\n')\n",
    "print(f'Equality Matrix A^E \\n {A_E} \\n')\n",
    "print(f'Equality Vector b^E \\n {b_E}')"
   ]
  },
  {
   "cell_type": "markdown",
   "metadata": {},
   "source": [
    "Now lets create a `NFDPolytope` object to represent the polytope."
   ]
  },
  {
   "cell_type": "code",
   "execution_count": 5,
   "metadata": {},
   "outputs": [
    {
     "name": "stdout",
     "output_type": "stream",
     "text": [
      "/home/uumami/sonder-art/mhar/mhar/polytope.py:45: UserWarning:\n",
      "  The object will not create a copy of the tensors, so modifications will be reflected in the object\n",
      "\n"
     ]
    }
   ],
   "source": [
    "from mhar.polytope import NFDPolytope\n",
    "simplex = NFDPolytope(A_I, # Inequality Restriction Matrix \n",
    "                     b_I,  # Inequality Vector\n",
    "                     A_E, # Equality Restriction Matrix \n",
    "                     b_E,  # Equality Vector\n",
    "                     dtype, # torch dtype\n",
    "                     device, # device used cpu or cuda\n",
    "                     copy=False # bool for creating a copy of the restrictions\n",
    "                     )"
   ]
  },
  {
   "cell_type": "code",
   "execution_count": 6,
   "metadata": {},
   "outputs": [
    {
     "data": {
      "text/plain": [
       "Numeric Precision (dtype) torch.float64\n",
       "Device: cuda\n",
       "A_in: torch.Size([3, 3]) \n",
       "b_in: torch.Size([3, 1])\n",
       "A_eq: torch.Size([1, 3]) \n",
       "b_eq: torch.Size([1, 1])"
      ]
     },
     "execution_count": 6,
     "metadata": {},
     "output_type": "execute_result"
    }
   ],
   "source": [
    "simplex"
   ]
  },
  {
   "cell_type": "markdown",
   "metadata": {},
   "source": [
    "### Projection Matrix"
   ]
  },
  {
   "cell_type": "markdown",
   "metadata": {},
   "source": [
    "Now we need to compute que projection matrix that we will use for projecting the random directions vectors to the equality space. For that we can use the method `NFDPolytope.compute_projection_matrix()`. We recommend using the highest precision possible to compute this matrix."
   ]
  },
  {
   "cell_type": "code",
   "execution_count": 7,
   "metadata": {},
   "outputs": [
    {
     "name": "stdout",
     "output_type": "stream",
     "text": [
      "Max non zero error for term (A A')^(-1)A at precision torch.float64:  tensor(0., device='cuda:0', dtype=torch.float64)\n"
     ]
    }
   ],
   "source": [
    "simplex.compute_projection_matrix(device=device, solver_precision=torch.float64)"
   ]
  },
  {
   "cell_type": "code",
   "execution_count": 8,
   "metadata": {},
   "outputs": [
    {
     "data": {
      "text/plain": [
       "Numeric Precision (dtype) torch.float64\n",
       "Device: cuda\n",
       "A_in: torch.Size([3, 3]) \n",
       "b_in: torch.Size([3, 1])\n",
       "A_eq: torch.Size([1, 3]) \n",
       "b_eq: torch.Size([1, 1])\n",
       "Projection Matrix: torch.Size([3, 3])"
      ]
     },
     "execution_count": 8,
     "metadata": {},
     "output_type": "execute_result"
    }
   ],
   "source": [
    "simplex"
   ]
  },
  {
   "cell_type": "markdown",
   "metadata": {},
   "source": [
    "### Starting Inner Point(s)"
   ]
  },
  {
   "cell_type": "markdown",
   "metadata": {},
   "source": [
    "In order to start the algorithm we need at least one inner point $x_0$. If you know your inner point you can supply it to the algorithm, `mhar` also contains functions to compute one inner point using the [chebyshev center](https://en.wikipedia.org/wiki/Chebyshev_center) which finds the center of the smallest ball inside the polytope.\n",
    "\n",
    " `from mhar.inner_point import ChebyshevCenter`. The solver is in numpy so precision must be specified as `numpy.dtype`. It uses `linprog` from `scipy.optimize`. You can see the documentation [here](https://docs.scipy.org/doc/scipy/reference/generated/scipy.optimize.linprog.html). \n",
    "  \n",
    "It could also be the last points produced by a previous walk/run of the `mhar` "
   ]
  },
  {
   "cell_type": "code",
   "execution_count": 9,
   "metadata": {},
   "outputs": [],
   "source": [
    "from mhar.inner_point import ChebyshevCenter\n",
    "import numpy as np"
   ]
  },
  {
   "cell_type": "code",
   "execution_count": 10,
   "metadata": {},
   "outputs": [
    {
     "name": "stdout",
     "output_type": "stream",
     "text": [
      "\n",
      "Simplex Status for the Chebyshev Center\n",
      " Optimization proceeding nominally.\n"
     ]
    }
   ],
   "source": [
    "x0 = ChebyshevCenter(polytope=simplex, # Polytope Object\n",
    "                    lb=None,  # Lowerbound (lb <= x ), if unknown leave it as None \n",
    "                    ub=None,  # Upperbound ( x <= up), if unknown leave it as None \n",
    "                    tolerance=1e-4, # Tolerance for equality restrictions (A_eqx = b_eq)\n",
    "                    device='cuda', # device used cpu or cuda\n",
    "                    solver_precision=np.float64 # numpy dtype\n",
    "                    )"
   ]
  },
  {
   "cell_type": "code",
   "execution_count": 11,
   "metadata": {},
   "outputs": [
    {
     "data": {
      "text/plain": [
       "tensor([[0.3333],\n",
       "        [0.3333],\n",
       "        [0.3333]], device='cuda:0', dtype=torch.float64)"
      ]
     },
     "execution_count": 11,
     "metadata": {},
     "output_type": "execute_result"
    }
   ],
   "source": [
    "x0"
   ]
  },
  {
   "cell_type": "markdown",
   "metadata": {},
   "source": [
    "If we want to manually input the inner points then it is enough to use a torch tensor of size $n \\times l$. Where $l$ is ne number of inner points you want to supply. Just write them in column notation.  \n",
    "  \n",
    "We are going to manually add an other starting point to the one calcualted by the `chebyshev center` to show its functionality later."
   ]
  },
  {
   "cell_type": "code",
   "execution_count": 12,
   "metadata": {},
   "outputs": [
    {
     "data": {
      "text/plain": [
       "tensor([[0.3333, 0.2500],\n",
       "        [0.3333, 0.2500],\n",
       "        [0.3333, 0.5000]], device='cuda:0', dtype=torch.float64)"
      ]
     },
     "execution_count": 12,
     "metadata": {},
     "output_type": "execute_result"
    }
   ],
   "source": [
    "x0 = torch.cat([x0, \n",
    "            torch.tensor([[.25], [.25], [.5]]).to(device).to(dtype)\n",
    "             ], dim=1)\n",
    "x0"
   ]
  },
  {
   "cell_type": "markdown",
   "metadata": {},
   "source": [
    "Now we can proceed to sample the `polytope`"
   ]
  },
  {
   "cell_type": "markdown",
   "metadata": {},
   "source": [
    "### Walk"
   ]
  },
  {
   "cell_type": "markdown",
   "metadata": {},
   "source": [
    "We are going to sample the polytope starting from the inner points we supply using the method `walk.walk`. It has the next arguments:"
   ]
  },
  {
   "cell_type": "markdown",
   "metadata": {},
   "source": [
    "+ `polytope` is an object of the type `Polytope` or `NFDPolytope` that defines it.\n",
    "+ `X0` a tensor containing the inner points to start the walks from.\n",
    "+ `z` determines the number of simoultaneous `walks`. If the number of initial points supplied are less than `z`  ($ncols($ `x0` $) < $ `z`) then some points will be reused as starting points.  \n",
    "+ `T` is the number of uncorrelated iterations you want. The number of total uncorrelated points produced by the algorithm is `z` $\\times$ `T`, since `z` points are sampled at each iteration.  \n",
    "+ `thinning` determines the number of points that we need to burn between iterations in order to get uncorrelated points. The suggested factor should be in the order of $O(n^3)$.\n",
    "+ `warm` determines a thinning for warming the walks only at the beggining, after the this war the walks resumes as normal. It is used if you want to lose the dependency from the starting points.\n",
    "+ `device` device where the tenros live `cpu` or `cuda`\n",
    "+ `seed` for reproducibility\n",
    "+ `verbosity` for printing what is going on"
   ]
  },
  {
   "cell_type": "code",
   "execution_count": 13,
   "metadata": {},
   "outputs": [
    {
     "data": {
      "text/plain": [
       "tensor([[0.3333, 0.2500],\n",
       "        [0.3333, 0.2500],\n",
       "        [0.3333, 0.5000]], device='cuda:0', dtype=torch.float64)"
      ]
     },
     "execution_count": 13,
     "metadata": {},
     "output_type": "execute_result"
    }
   ],
   "source": [
    "x0"
   ]
  },
  {
   "cell_type": "code",
   "execution_count": 14,
   "metadata": {},
   "outputs": [
    {
     "name": "stdout",
     "output_type": "stream",
     "text": [
      "Minimum number allowed -1.7976931348623157e+308\n",
      "Maximum number allowed 1.7976931348623157e+308\n",
      "Eps:  2.220446049250313e-16\n",
      "Values close to zero will be converted to 3eps or -3eps: 6.661338147750939e-16\n",
      "n:  3   mI: 3   mE: 1   z: 100\n",
      "% of burned samples |██████████████████████████████| 100.0%\n",
      "% of iid samples |███---------------------------| 10.0%\n",
      "% of burned samples |██████████████████████████████| 100.0%\n",
      "% of iid samples |██████------------------------| 20.0%\n",
      "% of burned samples |██████████████████████████████| 100.0%\n",
      "% of iid samples |█████████---------------------| 30.0%\n",
      "% of burned samples |██████████████████████████████| 100.0%\n",
      "% of iid samples |████████████------------------| 40.0%\n",
      "% of burned samples |██████████████████████████████| 100.0%\n",
      "% of iid samples |███████████████---------------| 50.0%\n",
      "% of burned samples |██████████████████████████████| 100.0%\n",
      "% of iid samples |██████████████████------------| 60.0%\n",
      "% of burned samples |██████████████████████████████| 100.0%\n",
      "% of iid samples |█████████████████████---------| 70.0%\n",
      "% of burned samples |██████████████████████████████| 100.0%\n",
      "% of iid samples |████████████████████████------| 80.0%\n",
      "% of burned samples |██████████████████████████████| 100.0%\n",
      "% of iid samples |███████████████████████████---| 90.0%\n",
      "% of burned samples |██████████████████████████████| 100.0%\n",
      "% of iid samples |██████████████████████████████| 100.0%\n"
     ]
    }
   ],
   "source": [
    "from mhar.walk import walk\n",
    "X = walk(polytope=simplex,\n",
    "        X0 = x0,  \n",
    "        z=100, \n",
    "        T=10, \n",
    "        warm=0,\n",
    "        thinning=n**3, \n",
    "        device=device, \n",
    "        seed=None,\n",
    "        verbosity=2\n",
    ")"
   ]
  },
  {
   "cell_type": "markdown",
   "metadata": {},
   "source": [
    "`walk` produces `T` $\\times$ `z` uncorrelated points. It returns a vector of dimension `T` $\\times$ `z` $\\times$ `n`.  "
   ]
  },
  {
   "cell_type": "code",
   "execution_count": 27,
   "metadata": {},
   "outputs": [
    {
     "data": {
      "text/plain": [
       "tensor([[[1.8518e-01, 2.1163e-01, 4.6898e-01,  ..., 1.9357e-01,\n",
       "          2.4413e-02, 6.3012e-02],\n",
       "         [2.7464e-01, 2.8838e-01, 1.3008e-01,  ..., 4.1514e-01,\n",
       "          7.2643e-01, 7.8429e-01],\n",
       "         [5.4018e-01, 4.9998e-01, 4.0094e-01,  ..., 3.9128e-01,\n",
       "          2.4915e-01, 1.5270e-01]],\n",
       "\n",
       "        [[1.2658e-01, 3.2733e-01, 4.3178e-01,  ..., 1.2386e-01,\n",
       "          2.4358e-01, 3.4306e-01],\n",
       "         [4.7800e-01, 1.7548e-01, 1.9821e-01,  ..., 4.4128e-02,\n",
       "          5.1164e-01, 5.1802e-02],\n",
       "         [3.9542e-01, 4.9719e-01, 3.7001e-01,  ..., 8.3201e-01,\n",
       "          2.4479e-01, 6.0514e-01]],\n",
       "\n",
       "        [[4.0546e-01, 4.9163e-01, 1.1899e-02,  ..., 3.3081e-01,\n",
       "          4.2431e-01, 3.9564e-01],\n",
       "         [5.4480e-01, 6.7977e-02, 3.8142e-01,  ..., 3.9524e-01,\n",
       "          3.9749e-01, 3.3416e-01],\n",
       "         [4.9740e-02, 4.4039e-01, 6.0668e-01,  ..., 2.7395e-01,\n",
       "          1.7820e-01, 2.7020e-01]],\n",
       "\n",
       "        ...,\n",
       "\n",
       "        [[7.0043e-01, 2.9754e-01, 4.6188e-01,  ..., 5.4753e-01,\n",
       "          1.5119e-01, 6.2951e-02],\n",
       "         [1.0443e-01, 1.7206e-01, 3.7026e-01,  ..., 2.6275e-04,\n",
       "          5.6200e-01, 2.9599e-01],\n",
       "         [1.9514e-01, 5.3040e-01, 1.6786e-01,  ..., 4.5220e-01,\n",
       "          2.8680e-01, 6.4106e-01]],\n",
       "\n",
       "        [[1.3166e-01, 4.6401e-01, 6.6543e-02,  ..., 1.7305e-01,\n",
       "          4.6493e-01, 1.8780e-01],\n",
       "         [1.6523e-01, 1.1179e-01, 3.0112e-01,  ..., 1.2379e-02,\n",
       "          4.7571e-01, 3.4871e-01],\n",
       "         [7.0311e-01, 4.2420e-01, 6.3234e-01,  ..., 8.1457e-01,\n",
       "          5.9363e-02, 4.6350e-01]],\n",
       "\n",
       "        [[3.2850e-01, 6.6593e-01, 3.4507e-01,  ..., 3.6551e-01,\n",
       "          2.8674e-01, 7.2835e-01],\n",
       "         [4.6455e-01, 2.7539e-01, 5.8000e-01,  ..., 2.5077e-01,\n",
       "          2.0490e-01, 2.6346e-01],\n",
       "         [2.0695e-01, 5.8681e-02, 7.4930e-02,  ..., 3.8372e-01,\n",
       "          5.0836e-01, 8.1918e-03]]], dtype=torch.float64)"
      ]
     },
     "execution_count": 27,
     "metadata": {},
     "output_type": "execute_result"
    }
   ],
   "source": [
    "X"
   ]
  },
  {
   "cell_type": "code",
   "execution_count": 28,
   "metadata": {},
   "outputs": [
    {
     "data": {
      "text/plain": [
       "torch.Size([10, 3, 100])"
      ]
     },
     "execution_count": 28,
     "metadata": {},
     "output_type": "execute_result"
    }
   ],
   "source": [
    "X.shape"
   ]
  },
  {
   "cell_type": "code",
   "execution_count": 31,
   "metadata": {},
   "outputs": [
    {
     "data": {
      "text/plain": [
       "tensor([[1.0000, 1.0000, 1.0000, 1.0000, 1.0000, 1.0000, 1.0000, 1.0000, 1.0000,\n",
       "         1.0000, 1.0000, 1.0000, 1.0000, 1.0000, 1.0000, 1.0000, 1.0000, 1.0000,\n",
       "         1.0000, 1.0000, 1.0000, 1.0000, 1.0000, 1.0000, 1.0000, 1.0000, 1.0000,\n",
       "         1.0000, 1.0000, 1.0000, 1.0000, 1.0000, 1.0000, 1.0000, 1.0000, 1.0000,\n",
       "         1.0000, 1.0000, 1.0000, 1.0000, 1.0000, 1.0000, 1.0000, 1.0000, 1.0000,\n",
       "         1.0000, 1.0000, 1.0000, 1.0000, 1.0000, 1.0000, 1.0000, 1.0000, 1.0000,\n",
       "         1.0000, 1.0000, 1.0000, 1.0000, 1.0000, 1.0000, 1.0000, 1.0000, 1.0000,\n",
       "         1.0000, 1.0000, 1.0000, 1.0000, 1.0000, 1.0000, 1.0000, 1.0000, 1.0000,\n",
       "         1.0000, 1.0000, 1.0000, 1.0000, 1.0000, 1.0000, 1.0000, 1.0000, 1.0000,\n",
       "         1.0000, 1.0000, 1.0000, 1.0000, 1.0000, 1.0000, 1.0000, 1.0000, 1.0000,\n",
       "         1.0000, 1.0000, 1.0000, 1.0000, 1.0000, 1.0000, 1.0000, 1.0000, 1.0000,\n",
       "         1.0000],\n",
       "        [1.0000, 1.0000, 1.0000, 1.0000, 1.0000, 1.0000, 1.0000, 1.0000, 1.0000,\n",
       "         1.0000, 1.0000, 1.0000, 1.0000, 1.0000, 1.0000, 1.0000, 1.0000, 1.0000,\n",
       "         1.0000, 1.0000, 1.0000, 1.0000, 1.0000, 1.0000, 1.0000, 1.0000, 1.0000,\n",
       "         1.0000, 1.0000, 1.0000, 1.0000, 1.0000, 1.0000, 1.0000, 1.0000, 1.0000,\n",
       "         1.0000, 1.0000, 1.0000, 1.0000, 1.0000, 1.0000, 1.0000, 1.0000, 1.0000,\n",
       "         1.0000, 1.0000, 1.0000, 1.0000, 1.0000, 1.0000, 1.0000, 1.0000, 1.0000,\n",
       "         1.0000, 1.0000, 1.0000, 1.0000, 1.0000, 1.0000, 1.0000, 1.0000, 1.0000,\n",
       "         1.0000, 1.0000, 1.0000, 1.0000, 1.0000, 1.0000, 1.0000, 1.0000, 1.0000,\n",
       "         1.0000, 1.0000, 1.0000, 1.0000, 1.0000, 1.0000, 1.0000, 1.0000, 1.0000,\n",
       "         1.0000, 1.0000, 1.0000, 1.0000, 1.0000, 1.0000, 1.0000, 1.0000, 1.0000,\n",
       "         1.0000, 1.0000, 1.0000, 1.0000, 1.0000, 1.0000, 1.0000, 1.0000, 1.0000,\n",
       "         1.0000],\n",
       "        [1.0000, 1.0000, 1.0000, 1.0000, 1.0000, 1.0000, 1.0000, 1.0000, 1.0000,\n",
       "         1.0000, 1.0000, 1.0000, 1.0000, 1.0000, 1.0000, 1.0000, 1.0000, 1.0000,\n",
       "         1.0000, 1.0000, 1.0000, 1.0000, 1.0000, 1.0000, 1.0000, 1.0000, 1.0000,\n",
       "         1.0000, 1.0000, 1.0000, 1.0000, 1.0000, 1.0000, 1.0000, 1.0000, 1.0000,\n",
       "         1.0000, 1.0000, 1.0000, 1.0000, 1.0000, 1.0000, 1.0000, 1.0000, 1.0000,\n",
       "         1.0000, 1.0000, 1.0000, 1.0000, 1.0000, 1.0000, 1.0000, 1.0000, 1.0000,\n",
       "         1.0000, 1.0000, 1.0000, 1.0000, 1.0000, 1.0000, 1.0000, 1.0000, 1.0000,\n",
       "         1.0000, 1.0000, 1.0000, 1.0000, 1.0000, 1.0000, 1.0000, 1.0000, 1.0000,\n",
       "         1.0000, 1.0000, 1.0000, 1.0000, 1.0000, 1.0000, 1.0000, 1.0000, 1.0000,\n",
       "         1.0000, 1.0000, 1.0000, 1.0000, 1.0000, 1.0000, 1.0000, 1.0000, 1.0000,\n",
       "         1.0000, 1.0000, 1.0000, 1.0000, 1.0000, 1.0000, 1.0000, 1.0000, 1.0000,\n",
       "         1.0000],\n",
       "        [1.0000, 1.0000, 1.0000, 1.0000, 1.0000, 1.0000, 1.0000, 1.0000, 1.0000,\n",
       "         1.0000, 1.0000, 1.0000, 1.0000, 1.0000, 1.0000, 1.0000, 1.0000, 1.0000,\n",
       "         1.0000, 1.0000, 1.0000, 1.0000, 1.0000, 1.0000, 1.0000, 1.0000, 1.0000,\n",
       "         1.0000, 1.0000, 1.0000, 1.0000, 1.0000, 1.0000, 1.0000, 1.0000, 1.0000,\n",
       "         1.0000, 1.0000, 1.0000, 1.0000, 1.0000, 1.0000, 1.0000, 1.0000, 1.0000,\n",
       "         1.0000, 1.0000, 1.0000, 1.0000, 1.0000, 1.0000, 1.0000, 1.0000, 1.0000,\n",
       "         1.0000, 1.0000, 1.0000, 1.0000, 1.0000, 1.0000, 1.0000, 1.0000, 1.0000,\n",
       "         1.0000, 1.0000, 1.0000, 1.0000, 1.0000, 1.0000, 1.0000, 1.0000, 1.0000,\n",
       "         1.0000, 1.0000, 1.0000, 1.0000, 1.0000, 1.0000, 1.0000, 1.0000, 1.0000,\n",
       "         1.0000, 1.0000, 1.0000, 1.0000, 1.0000, 1.0000, 1.0000, 1.0000, 1.0000,\n",
       "         1.0000, 1.0000, 1.0000, 1.0000, 1.0000, 1.0000, 1.0000, 1.0000, 1.0000,\n",
       "         1.0000],\n",
       "        [1.0000, 1.0000, 1.0000, 1.0000, 1.0000, 1.0000, 1.0000, 1.0000, 1.0000,\n",
       "         1.0000, 1.0000, 1.0000, 1.0000, 1.0000, 1.0000, 1.0000, 1.0000, 1.0000,\n",
       "         1.0000, 1.0000, 1.0000, 1.0000, 1.0000, 1.0000, 1.0000, 1.0000, 1.0000,\n",
       "         1.0000, 1.0000, 1.0000, 1.0000, 1.0000, 1.0000, 1.0000, 1.0000, 1.0000,\n",
       "         1.0000, 1.0000, 1.0000, 1.0000, 1.0000, 1.0000, 1.0000, 1.0000, 1.0000,\n",
       "         1.0000, 1.0000, 1.0000, 1.0000, 1.0000, 1.0000, 1.0000, 1.0000, 1.0000,\n",
       "         1.0000, 1.0000, 1.0000, 1.0000, 1.0000, 1.0000, 1.0000, 1.0000, 1.0000,\n",
       "         1.0000, 1.0000, 1.0000, 1.0000, 1.0000, 1.0000, 1.0000, 1.0000, 1.0000,\n",
       "         1.0000, 1.0000, 1.0000, 1.0000, 1.0000, 1.0000, 1.0000, 1.0000, 1.0000,\n",
       "         1.0000, 1.0000, 1.0000, 1.0000, 1.0000, 1.0000, 1.0000, 1.0000, 1.0000,\n",
       "         1.0000, 1.0000, 1.0000, 1.0000, 1.0000, 1.0000, 1.0000, 1.0000, 1.0000,\n",
       "         1.0000],\n",
       "        [1.0000, 1.0000, 1.0000, 1.0000, 1.0000, 1.0000, 1.0000, 1.0000, 1.0000,\n",
       "         1.0000, 1.0000, 1.0000, 1.0000, 1.0000, 1.0000, 1.0000, 1.0000, 1.0000,\n",
       "         1.0000, 1.0000, 1.0000, 1.0000, 1.0000, 1.0000, 1.0000, 1.0000, 1.0000,\n",
       "         1.0000, 1.0000, 1.0000, 1.0000, 1.0000, 1.0000, 1.0000, 1.0000, 1.0000,\n",
       "         1.0000, 1.0000, 1.0000, 1.0000, 1.0000, 1.0000, 1.0000, 1.0000, 1.0000,\n",
       "         1.0000, 1.0000, 1.0000, 1.0000, 1.0000, 1.0000, 1.0000, 1.0000, 1.0000,\n",
       "         1.0000, 1.0000, 1.0000, 1.0000, 1.0000, 1.0000, 1.0000, 1.0000, 1.0000,\n",
       "         1.0000, 1.0000, 1.0000, 1.0000, 1.0000, 1.0000, 1.0000, 1.0000, 1.0000,\n",
       "         1.0000, 1.0000, 1.0000, 1.0000, 1.0000, 1.0000, 1.0000, 1.0000, 1.0000,\n",
       "         1.0000, 1.0000, 1.0000, 1.0000, 1.0000, 1.0000, 1.0000, 1.0000, 1.0000,\n",
       "         1.0000, 1.0000, 1.0000, 1.0000, 1.0000, 1.0000, 1.0000, 1.0000, 1.0000,\n",
       "         1.0000],\n",
       "        [1.0000, 1.0000, 1.0000, 1.0000, 1.0000, 1.0000, 1.0000, 1.0000, 1.0000,\n",
       "         1.0000, 1.0000, 1.0000, 1.0000, 1.0000, 1.0000, 1.0000, 1.0000, 1.0000,\n",
       "         1.0000, 1.0000, 1.0000, 1.0000, 1.0000, 1.0000, 1.0000, 1.0000, 1.0000,\n",
       "         1.0000, 1.0000, 1.0000, 1.0000, 1.0000, 1.0000, 1.0000, 1.0000, 1.0000,\n",
       "         1.0000, 1.0000, 1.0000, 1.0000, 1.0000, 1.0000, 1.0000, 1.0000, 1.0000,\n",
       "         1.0000, 1.0000, 1.0000, 1.0000, 1.0000, 1.0000, 1.0000, 1.0000, 1.0000,\n",
       "         1.0000, 1.0000, 1.0000, 1.0000, 1.0000, 1.0000, 1.0000, 1.0000, 1.0000,\n",
       "         1.0000, 1.0000, 1.0000, 1.0000, 1.0000, 1.0000, 1.0000, 1.0000, 1.0000,\n",
       "         1.0000, 1.0000, 1.0000, 1.0000, 1.0000, 1.0000, 1.0000, 1.0000, 1.0000,\n",
       "         1.0000, 1.0000, 1.0000, 1.0000, 1.0000, 1.0000, 1.0000, 1.0000, 1.0000,\n",
       "         1.0000, 1.0000, 1.0000, 1.0000, 1.0000, 1.0000, 1.0000, 1.0000, 1.0000,\n",
       "         1.0000],\n",
       "        [1.0000, 1.0000, 1.0000, 1.0000, 1.0000, 1.0000, 1.0000, 1.0000, 1.0000,\n",
       "         1.0000, 1.0000, 1.0000, 1.0000, 1.0000, 1.0000, 1.0000, 1.0000, 1.0000,\n",
       "         1.0000, 1.0000, 1.0000, 1.0000, 1.0000, 1.0000, 1.0000, 1.0000, 1.0000,\n",
       "         1.0000, 1.0000, 1.0000, 1.0000, 1.0000, 1.0000, 1.0000, 1.0000, 1.0000,\n",
       "         1.0000, 1.0000, 1.0000, 1.0000, 1.0000, 1.0000, 1.0000, 1.0000, 1.0000,\n",
       "         1.0000, 1.0000, 1.0000, 1.0000, 1.0000, 1.0000, 1.0000, 1.0000, 1.0000,\n",
       "         1.0000, 1.0000, 1.0000, 1.0000, 1.0000, 1.0000, 1.0000, 1.0000, 1.0000,\n",
       "         1.0000, 1.0000, 1.0000, 1.0000, 1.0000, 1.0000, 1.0000, 1.0000, 1.0000,\n",
       "         1.0000, 1.0000, 1.0000, 1.0000, 1.0000, 1.0000, 1.0000, 1.0000, 1.0000,\n",
       "         1.0000, 1.0000, 1.0000, 1.0000, 1.0000, 1.0000, 1.0000, 1.0000, 1.0000,\n",
       "         1.0000, 1.0000, 1.0000, 1.0000, 1.0000, 1.0000, 1.0000, 1.0000, 1.0000,\n",
       "         1.0000],\n",
       "        [1.0000, 1.0000, 1.0000, 1.0000, 1.0000, 1.0000, 1.0000, 1.0000, 1.0000,\n",
       "         1.0000, 1.0000, 1.0000, 1.0000, 1.0000, 1.0000, 1.0000, 1.0000, 1.0000,\n",
       "         1.0000, 1.0000, 1.0000, 1.0000, 1.0000, 1.0000, 1.0000, 1.0000, 1.0000,\n",
       "         1.0000, 1.0000, 1.0000, 1.0000, 1.0000, 1.0000, 1.0000, 1.0000, 1.0000,\n",
       "         1.0000, 1.0000, 1.0000, 1.0000, 1.0000, 1.0000, 1.0000, 1.0000, 1.0000,\n",
       "         1.0000, 1.0000, 1.0000, 1.0000, 1.0000, 1.0000, 1.0000, 1.0000, 1.0000,\n",
       "         1.0000, 1.0000, 1.0000, 1.0000, 1.0000, 1.0000, 1.0000, 1.0000, 1.0000,\n",
       "         1.0000, 1.0000, 1.0000, 1.0000, 1.0000, 1.0000, 1.0000, 1.0000, 1.0000,\n",
       "         1.0000, 1.0000, 1.0000, 1.0000, 1.0000, 1.0000, 1.0000, 1.0000, 1.0000,\n",
       "         1.0000, 1.0000, 1.0000, 1.0000, 1.0000, 1.0000, 1.0000, 1.0000, 1.0000,\n",
       "         1.0000, 1.0000, 1.0000, 1.0000, 1.0000, 1.0000, 1.0000, 1.0000, 1.0000,\n",
       "         1.0000],\n",
       "        [1.0000, 1.0000, 1.0000, 1.0000, 1.0000, 1.0000, 1.0000, 1.0000, 1.0000,\n",
       "         1.0000, 1.0000, 1.0000, 1.0000, 1.0000, 1.0000, 1.0000, 1.0000, 1.0000,\n",
       "         1.0000, 1.0000, 1.0000, 1.0000, 1.0000, 1.0000, 1.0000, 1.0000, 1.0000,\n",
       "         1.0000, 1.0000, 1.0000, 1.0000, 1.0000, 1.0000, 1.0000, 1.0000, 1.0000,\n",
       "         1.0000, 1.0000, 1.0000, 1.0000, 1.0000, 1.0000, 1.0000, 1.0000, 1.0000,\n",
       "         1.0000, 1.0000, 1.0000, 1.0000, 1.0000, 1.0000, 1.0000, 1.0000, 1.0000,\n",
       "         1.0000, 1.0000, 1.0000, 1.0000, 1.0000, 1.0000, 1.0000, 1.0000, 1.0000,\n",
       "         1.0000, 1.0000, 1.0000, 1.0000, 1.0000, 1.0000, 1.0000, 1.0000, 1.0000,\n",
       "         1.0000, 1.0000, 1.0000, 1.0000, 1.0000, 1.0000, 1.0000, 1.0000, 1.0000,\n",
       "         1.0000, 1.0000, 1.0000, 1.0000, 1.0000, 1.0000, 1.0000, 1.0000, 1.0000,\n",
       "         1.0000, 1.0000, 1.0000, 1.0000, 1.0000, 1.0000, 1.0000, 1.0000, 1.0000,\n",
       "         1.0000]], dtype=torch.float64)"
      ]
     },
     "execution_count": 31,
     "metadata": {},
     "output_type": "execute_result"
    }
   ],
   "source": [
    "X.sum(1)"
   ]
  },
  {
   "cell_type": "code",
   "execution_count": 32,
   "metadata": {},
   "outputs": [
    {
     "data": {
      "text/plain": [
       "torch.Size([10, 3, 100])"
      ]
     },
     "execution_count": 32,
     "metadata": {},
     "output_type": "execute_result"
    }
   ],
   "source": [
    "X.shape"
   ]
  },
  {
   "cell_type": "markdown",
   "metadata": {},
   "source": [
    "### Numerical Stability"
   ]
  },
  {
   "cell_type": "markdown",
   "metadata": {},
   "source": [
    "There is some numerical inestability that causes the algorithm to degrade overtime, we recommend checking your walk everyonce in a while and be sure that it is not a big deal. The inestability is due to the projection matrix."
   ]
  },
  {
   "cell_type": "code",
   "execution_count": 36,
   "metadata": {},
   "outputs": [
    {
     "name": "stdout",
     "output_type": "stream",
     "text": [
      "Infinite:  tensor(0)\n",
      "Nans:   tensor(0)\n",
      "Inequality violation:   tensor(938)\n",
      "Inequality violation with tol 1e-10:   tensor(0)\n"
     ]
    }
   ],
   "source": [
    "tol = 1e-10\n",
    "print('Infinite: ', (~torch.isfinite(X)).sum())\n",
    "print('Nans:  ',(torch.isnan(X)).sum())\n",
    "print('Inequality violation:  ',(X.sum(1)!=1.0).sum())\n",
    "print(f'Inequality violation with tol {tol}:  ',((X.sum(1)- 1.0).abs()>tol).sum())"
   ]
  },
  {
   "cell_type": "markdown",
   "metadata": {},
   "source": [
    "### Summary"
   ]
  },
  {
   "cell_type": "markdown",
   "metadata": {},
   "source": [
    "To sumamrize the steps taken we can use the `polytope_examples` for creating a `Hypercube`."
   ]
  },
  {
   "cell_type": "code",
   "execution_count": 19,
   "metadata": {},
   "outputs": [
    {
     "name": "stdout",
     "output_type": "stream",
     "text": [
      "/home/uumami/sonder-art/mhar/mhar/polytope.py:45: UserWarning:\n",
      "  The object will not create a copy of the tensors, so modifications will be reflected in the object\n",
      "\n"
     ]
    }
   ],
   "source": [
    "from mhar.polytope_examples import Simplex\n",
    "\n",
    "# Create a polytope (Simplex)\n",
    "simplex_sim = Simplex(10,\n",
    "                      dtype=torch.float64,\n",
    "                      device='cuda'\n",
    "                      )"
   ]
  },
  {
   "cell_type": "code",
   "execution_count": 20,
   "metadata": {},
   "outputs": [
    {
     "name": "stdout",
     "output_type": "stream",
     "text": [
      "Max non zero error for term (A A')^(-1)A at precision torch.float64:  tensor(2.2204e-16, device='cuda:0', dtype=torch.float64)\n"
     ]
    }
   ],
   "source": [
    "simplex_sim.compute_projection_matrix(device='cuda')\n"
   ]
  },
  {
   "cell_type": "markdown",
   "metadata": {},
   "source": [
    "Define/Find inner points"
   ]
  },
  {
   "cell_type": "code",
   "execution_count": 21,
   "metadata": {},
   "outputs": [
    {
     "name": "stdout",
     "output_type": "stream",
     "text": [
      "\n",
      "Simplex Status for the Chebyshev Center\n",
      " Optimization proceeding nominally.\n"
     ]
    }
   ],
   "source": [
    "x0_sim = ChebyshevCenter(polytope=simplex_sim, \n",
    "                    lb=None, \n",
    "                    ub=None, \n",
    "                    tolerance=1e-4,\n",
    "                    device='cuda',\n",
    "                    solver_precision=np.float64)\n",
    "\n"
   ]
  },
  {
   "cell_type": "markdown",
   "metadata": {},
   "source": [
    "Sample points"
   ]
  },
  {
   "cell_type": "code",
   "execution_count": 22,
   "metadata": {},
   "outputs": [
    {
     "name": "stdout",
     "output_type": "stream",
     "text": [
      "Minimum number allowed -1.7976931348623157e+308\n",
      "Maximum number allowed 1.7976931348623157e+308\n",
      "Eps:  2.220446049250313e-16\n",
      "Values close to zero will be converted to 3eps or -3eps: 6.661338147750939e-16\n",
      "n:  10   mI: 10   mE: 1   z: 100\n",
      "% of burned samples |------------------------------| 1.9%\r"
     ]
    },
    {
     "name": "stdout",
     "output_type": "stream",
     "text": [
      "% of burned samples |██████████████████████████████| 100.0%\n",
      "% of iid samples |██████████████████████████████| 100.0%\n"
     ]
    },
    {
     "data": {
      "text/plain": [
       "tensor([[[2.2232e-01, 4.2157e-02, 1.0623e-01, 9.0542e-02, 1.1183e-01,\n",
       "          1.1443e-01, 9.0691e-02, 1.2217e-01, 1.0717e-01, 2.0869e-01,\n",
       "          6.9864e-02, 2.6897e-02, 2.3011e-01, 8.0364e-02, 2.4504e-01,\n",
       "          3.0917e-01, 1.3760e-01, 4.4741e-02, 7.0836e-02, 8.0677e-03,\n",
       "          7.6785e-02, 2.9897e-01, 1.6811e-01, 6.2855e-02, 1.7506e-02,\n",
       "          1.3156e-02, 3.1130e-02, 4.4690e-02, 1.4000e-01, 2.3178e-01,\n",
       "          1.3229e-01, 2.9500e-02, 2.0480e-01, 8.4248e-02, 1.2623e-01,\n",
       "          1.2501e-03, 2.4541e-02, 1.4675e-01, 2.5414e-02, 1.2247e-01,\n",
       "          7.6131e-02, 2.0446e-01, 4.8699e-02, 7.3948e-02, 2.0779e-01,\n",
       "          1.6323e-01, 8.6012e-03, 1.1459e-01, 4.7574e-02, 6.6901e-03,\n",
       "          8.9183e-02, 5.7458e-02, 1.4460e-01, 2.7484e-01, 9.0192e-02,\n",
       "          6.5844e-02, 4.1337e-02, 3.1645e-02, 2.2144e-01, 1.2286e-01,\n",
       "          6.4789e-02, 9.2737e-02, 1.3122e-01, 1.3373e-01, 5.8444e-02,\n",
       "          2.1104e-02, 7.4213e-02, 6.5096e-03, 7.9778e-02, 8.6577e-02,\n",
       "          9.3164e-03, 6.4190e-02, 9.4718e-03, 5.3027e-02, 1.5715e-01,\n",
       "          9.1352e-02, 1.4893e-01, 7.1335e-02, 6.6677e-02, 2.7160e-01,\n",
       "          1.6716e-01, 2.0036e-02, 2.0625e-01, 2.7024e-01, 1.0877e-01,\n",
       "          6.5415e-02, 1.8422e-02, 2.6027e-01, 4.7209e-02, 1.3167e-01,\n",
       "          1.2432e-01, 6.2230e-02, 1.7762e-03, 1.7534e-02, 7.3844e-02,\n",
       "          1.0089e-01, 3.8820e-02, 3.4697e-02, 4.7043e-02, 5.7855e-03],\n",
       "         [4.4506e-02, 1.9189e-01, 5.6047e-02, 6.6960e-02, 2.5201e-03,\n",
       "          1.3699e-02, 8.7435e-03, 1.6397e-01, 4.4337e-02, 1.4381e-01,\n",
       "          2.8791e-01, 3.5009e-02, 9.0451e-02, 1.6390e-01, 1.0062e-01,\n",
       "          2.1033e-01, 5.0182e-03, 5.3121e-02, 2.8477e-01, 4.5415e-02,\n",
       "          6.8568e-02, 2.1269e-01, 1.9667e-02, 8.2718e-02, 6.6058e-02,\n",
       "          4.3608e-01, 1.1134e-01, 1.8551e-01, 1.2588e-01, 1.6191e-01,\n",
       "          8.9566e-03, 3.3628e-02, 6.2436e-02, 2.0337e-02, 9.9187e-04,\n",
       "          4.4304e-02, 1.0526e-01, 7.1474e-02, 3.8136e-02, 1.5628e-01,\n",
       "          4.3257e-02, 3.5148e-01, 2.4488e-02, 7.3002e-02, 7.6901e-02,\n",
       "          4.6037e-02, 3.0746e-03, 9.4213e-02, 1.9046e-02, 5.6582e-02,\n",
       "          8.3885e-02, 3.7546e-02, 5.7262e-02, 3.6741e-02, 1.4687e-01,\n",
       "          5.5628e-02, 6.9365e-04, 1.6042e-01, 3.4927e-02, 1.9354e-01,\n",
       "          5.1450e-03, 8.0315e-02, 2.1467e-02, 6.5196e-02, 2.9339e-02,\n",
       "          2.5476e-01, 9.7904e-02, 4.7132e-02, 4.5871e-02, 1.8577e-01,\n",
       "          2.7542e-04, 7.1604e-02, 3.1261e-01, 1.5098e-01, 2.7815e-01,\n",
       "          1.9568e-01, 1.7347e-01, 2.1292e-01, 1.7965e-01, 1.8202e-01,\n",
       "          1.2839e-03, 5.6233e-02, 2.4934e-02, 4.0115e-02, 2.1975e-01,\n",
       "          9.6112e-02, 1.0307e-01, 4.4115e-02, 1.9952e-01, 1.8549e-01,\n",
       "          1.8701e-02, 1.2729e-01, 1.1738e-02, 5.1154e-02, 9.7305e-02,\n",
       "          1.9159e-01, 1.4856e-01, 8.1397e-02, 3.2917e-03, 9.3861e-02],\n",
       "         [1.8283e-02, 2.1721e-01, 1.0669e-01, 3.8249e-02, 1.5230e-01,\n",
       "          2.2589e-01, 3.3663e-02, 8.9325e-02, 4.6607e-02, 6.1036e-02,\n",
       "          5.1144e-02, 4.2261e-03, 4.6387e-02, 2.0562e-01, 8.1001e-02,\n",
       "          2.8360e-02, 4.9019e-02, 7.4889e-02, 1.4459e-01, 7.6508e-02,\n",
       "          7.6893e-02, 6.0232e-02, 1.2035e-01, 4.9292e-01, 3.3946e-02,\n",
       "          1.6644e-06, 1.2483e-01, 1.9972e-01, 9.8252e-02, 4.5216e-02,\n",
       "          2.2732e-02, 3.1614e-02, 9.4038e-03, 6.4824e-02, 7.4534e-02,\n",
       "          2.9097e-02, 3.3960e-02, 1.1803e-02, 2.5193e-01, 3.3612e-02,\n",
       "          1.0631e-01, 1.7374e-02, 7.6541e-02, 8.3920e-02, 8.8005e-04,\n",
       "          3.5366e-01, 8.2976e-02, 1.3124e-01, 5.8538e-02, 9.0949e-02,\n",
       "          1.7778e-02, 3.1710e-01, 1.6971e-01, 2.0618e-02, 4.7768e-02,\n",
       "          3.0483e-02, 3.5928e-02, 2.0425e-02, 8.5168e-02, 9.4263e-02,\n",
       "          5.3907e-02, 1.1174e-03, 1.1913e-01, 1.4684e-02, 1.1104e-01,\n",
       "          4.5964e-02, 2.8489e-02, 6.9353e-02, 3.3165e-02, 9.5803e-02,\n",
       "          3.3050e-02, 9.3115e-02, 2.1883e-01, 1.4494e-01, 2.4690e-02,\n",
       "          1.1613e-01, 3.6144e-02, 1.0627e-01, 3.7351e-03, 2.5531e-02,\n",
       "          9.7316e-02, 1.6735e-01, 1.9052e-01, 1.7494e-02, 4.1779e-02,\n",
       "          2.5376e-01, 9.7437e-02, 1.4295e-01, 4.2975e-02, 9.3755e-02,\n",
       "          1.9650e-02, 5.2470e-02, 3.5368e-01, 1.2060e-01, 1.0676e-02,\n",
       "          1.3031e-03, 2.8345e-01, 3.3774e-01, 8.4676e-03, 4.8694e-02],\n",
       "         [3.9604e-02, 1.6948e-02, 9.2158e-02, 4.6631e-01, 1.0484e-01,\n",
       "          4.5255e-02, 5.7094e-02, 3.0738e-01, 2.6855e-02, 9.3276e-02,\n",
       "          5.9786e-02, 2.5093e-01, 1.9326e-02, 2.1447e-02, 1.2163e-01,\n",
       "          6.3585e-03, 1.2130e-01, 9.1535e-03, 9.4092e-02, 2.8440e-02,\n",
       "          7.2252e-02, 7.5901e-03, 3.7939e-02, 3.8292e-02, 1.8603e-01,\n",
       "          5.1955e-03, 1.3827e-01, 9.5922e-02, 5.1309e-02, 8.5993e-02,\n",
       "          6.9089e-03, 3.8327e-02, 1.4218e-01, 1.0757e-01, 1.0071e-01,\n",
       "          1.9065e-02, 9.7578e-02, 2.8292e-01, 2.4362e-02, 8.9020e-02,\n",
       "          2.6526e-01, 2.7958e-02, 2.6767e-01, 4.8135e-02, 1.3749e-01,\n",
       "          2.8294e-03, 1.5315e-01, 3.9179e-02, 1.4591e-01, 7.7705e-02,\n",
       "          1.0291e-01, 1.4890e-01, 7.6728e-03, 1.4383e-01, 1.4394e-01,\n",
       "          1.2107e-01, 3.0055e-01, 1.2492e-01, 7.5765e-02, 3.5301e-01,\n",
       "          1.7189e-01, 3.6994e-01, 2.1117e-01, 1.5294e-02, 4.9344e-02,\n",
       "          7.0621e-02, 2.2874e-02, 1.3305e-01, 3.6915e-02, 9.5413e-02,\n",
       "          9.9010e-02, 1.7612e-01, 2.0939e-02, 5.5369e-03, 1.1369e-02,\n",
       "          1.2683e-01, 6.9378e-02, 2.0712e-01, 7.7031e-02, 3.9610e-03,\n",
       "          3.7277e-01, 2.3258e-02, 1.0886e-01, 2.8240e-02, 2.0561e-02,\n",
       "          6.0789e-02, 1.3407e-01, 4.5436e-02, 3.4878e-01, 1.1269e-02,\n",
       "          1.6897e-02, 5.0079e-02, 3.3744e-03, 1.6338e-02, 1.0565e-01,\n",
       "          1.1118e-02, 4.2931e-02, 8.3525e-02, 6.8708e-02, 1.3557e-01],\n",
       "         [9.1229e-03, 9.5601e-02, 3.6088e-03, 3.8691e-02, 4.1145e-02,\n",
       "          9.1310e-03, 1.4562e-01, 3.8023e-02, 1.1974e-01, 1.2641e-01,\n",
       "          2.9350e-01, 1.1874e-01, 9.5371e-02, 1.6016e-02, 8.3453e-03,\n",
       "          1.5881e-01, 2.5580e-01, 3.3000e-02, 1.8098e-02, 2.2634e-01,\n",
       "          7.6560e-02, 3.5649e-04, 8.0019e-02, 1.3051e-02, 9.8723e-02,\n",
       "          8.6061e-02, 4.7114e-02, 1.3925e-01, 7.4710e-02, 1.0952e-01,\n",
       "          2.1924e-02, 2.2639e-02, 5.0871e-02, 1.3227e-01, 9.5123e-02,\n",
       "          1.6514e-01, 1.4990e-01, 3.5035e-02, 9.9648e-02, 2.7257e-01,\n",
       "          1.8229e-01, 2.0410e-02, 1.7834e-01, 9.6992e-03, 2.9037e-02,\n",
       "          8.7504e-02, 2.6151e-01, 6.9629e-02, 9.2954e-02, 1.5219e-01,\n",
       "          1.5654e-01, 3.7949e-02, 1.8729e-02, 3.1707e-02, 4.8942e-02,\n",
       "          1.2983e-01, 2.0854e-02, 7.0994e-02, 1.1736e-01, 2.8985e-02,\n",
       "          9.1769e-04, 1.9269e-02, 1.5847e-01, 3.0421e-02, 5.0522e-02,\n",
       "          5.4089e-03, 1.3599e-01, 2.3658e-01, 1.9796e-01, 1.2642e-01,\n",
       "          1.0300e-01, 9.3133e-02, 6.3260e-02, 4.4625e-02, 1.7072e-02,\n",
       "          1.7935e-02, 7.8374e-02, 7.4317e-02, 2.3409e-01, 1.0749e-01,\n",
       "          3.4246e-03, 5.4237e-02, 3.8080e-02, 1.1892e-02, 1.7077e-02,\n",
       "          6.8493e-02, 4.9381e-02, 1.0936e-02, 3.8569e-02, 3.5527e-02,\n",
       "          2.7409e-02, 1.2336e-02, 1.2155e-01, 1.3259e-01, 2.3211e-01,\n",
       "          2.1186e-02, 1.5265e-01, 1.3198e-02, 1.9364e-01, 3.2640e-02],\n",
       "         [1.1190e-01, 2.4194e-02, 2.8570e-02, 2.7122e-02, 1.6236e-01,\n",
       "          1.8325e-01, 1.0586e-01, 8.5106e-03, 4.4628e-01, 2.2430e-01,\n",
       "          2.0204e-03, 5.9600e-02, 1.7223e-02, 9.0198e-02, 7.1749e-02,\n",
       "          1.1785e-01, 7.2668e-03, 1.8246e-01, 2.9861e-02, 2.0884e-01,\n",
       "          4.8536e-03, 2.1892e-01, 2.0982e-01, 1.2429e-02, 3.9922e-02,\n",
       "          6.0285e-03, 3.0756e-01, 2.3932e-01, 7.6926e-02, 2.3796e-03,\n",
       "          1.4775e-01, 1.4097e-01, 1.1427e-01, 2.7385e-01, 8.1850e-02,\n",
       "          2.9041e-01, 9.9944e-02, 8.2582e-02, 7.5197e-02, 6.7568e-02,\n",
       "          1.8017e-02, 3.1816e-04, 1.6269e-01, 1.0512e-01, 1.7553e-01,\n",
       "          5.8359e-03, 2.7942e-01, 1.8556e-01, 3.6349e-01, 1.2734e-02,\n",
       "          7.4566e-02, 7.1453e-02, 1.5705e-01, 5.8681e-02, 2.5831e-02,\n",
       "          8.6204e-02, 2.8306e-02, 2.2446e-01, 2.9540e-02, 1.9149e-02,\n",
       "          1.9167e-01, 6.4789e-02, 8.8753e-02, 1.8663e-01, 5.0881e-02,\n",
       "          1.3366e-02, 2.1280e-02, 1.7483e-02, 7.7253e-02, 8.7926e-02,\n",
       "          1.6959e-01, 2.3868e-01, 4.7564e-02, 1.7907e-02, 7.1545e-02,\n",
       "          1.6952e-01, 6.4645e-02, 1.4695e-02, 1.3983e-01, 4.9816e-02,\n",
       "          1.8303e-02, 9.7011e-02, 2.5332e-01, 6.8012e-03, 7.7359e-02,\n",
       "          1.4572e-01, 2.9744e-02, 9.9630e-02, 9.6062e-02, 1.0137e-01,\n",
       "          2.9725e-01, 1.1361e-01, 2.3061e-01, 3.3732e-01, 3.9964e-02,\n",
       "          9.0666e-02, 1.1566e-01, 1.4456e-01, 1.3961e-01, 1.7517e-01],\n",
       "         [1.9728e-01, 5.4920e-02, 8.9307e-02, 1.7464e-02, 6.7917e-02,\n",
       "          4.1940e-02, 8.3310e-02, 8.1453e-02, 3.9238e-02, 4.4614e-02,\n",
       "          1.1642e-02, 1.6452e-02, 2.7445e-02, 1.5121e-01, 4.2040e-02,\n",
       "          7.4160e-02, 1.6487e-01, 4.8440e-01, 5.1288e-02, 1.3646e-01,\n",
       "          1.3582e-02, 2.2977e-02, 1.6160e-01, 2.2685e-02, 2.7426e-01,\n",
       "          3.8242e-02, 3.4442e-02, 9.5288e-03, 7.3162e-02, 1.2193e-01,\n",
       "          1.2010e-02, 5.3011e-02, 2.3185e-02, 1.5611e-01, 7.4941e-02,\n",
       "          2.6935e-01, 6.4252e-02, 2.2412e-01, 7.9499e-02, 1.4054e-02,\n",
       "          3.3179e-02, 3.4055e-02, 1.1296e-01, 6.2124e-02, 1.0011e-01,\n",
       "          2.1612e-02, 2.0994e-02, 4.4783e-02, 4.7061e-03, 2.6675e-02,\n",
       "          1.3397e-01, 6.8867e-02, 1.3729e-01, 7.6863e-03, 2.0784e-01,\n",
       "          9.1917e-03, 2.9421e-01, 1.3400e-02, 3.4917e-02, 6.0539e-02,\n",
       "          7.7464e-02, 1.5172e-01, 5.3108e-02, 7.4147e-02, 2.0380e-02,\n",
       "          7.1360e-02, 5.0460e-02, 2.8259e-01, 2.4751e-01, 1.1949e-04,\n",
       "          2.3019e-01, 8.0782e-02, 1.1296e-01, 1.5340e-01, 5.2409e-02,\n",
       "          6.3829e-02, 1.2559e-01, 7.1824e-02, 1.0645e-01, 1.2168e-02,\n",
       "          1.0799e-01, 2.9826e-01, 1.6092e-02, 1.8689e-01, 1.2156e-01,\n",
       "          7.9377e-02, 1.4923e-01, 2.0476e-02, 8.6343e-02, 5.9764e-02,\n",
       "          5.7495e-02, 3.4821e-02, 1.0414e-02, 1.7918e-01, 3.2659e-01,\n",
       "          1.7371e-01, 3.9374e-02, 4.4528e-02, 8.3954e-03, 3.4839e-02],\n",
       "         [2.0799e-01, 7.3172e-02, 1.7531e-01, 1.1051e-01, 6.6955e-03,\n",
       "          2.1975e-01, 1.2449e-01, 1.1494e-01, 1.1705e-04, 5.3481e-02,\n",
       "          6.7964e-02, 4.0765e-02, 5.2836e-02, 1.6845e-01, 1.0657e-01,\n",
       "          1.8631e-03, 1.0471e-02, 1.1116e-02, 1.1196e-01, 4.0951e-02,\n",
       "          2.6684e-01, 3.2701e-02, 1.4557e-01, 4.0713e-03, 5.3894e-02,\n",
       "          4.2773e-02, 4.8552e-02, 5.6238e-02, 9.0712e-02, 1.6866e-01,\n",
       "          2.5261e-01, 4.8777e-01, 2.0462e-01, 1.2197e-01, 7.2324e-02,\n",
       "          6.0378e-02, 3.1372e-02, 5.9443e-02, 1.5048e-01, 1.3979e-01,\n",
       "          2.1430e-02, 1.8824e-01, 2.1349e-02, 1.9588e-01, 1.8225e-01,\n",
       "          1.9935e-01, 7.4794e-02, 2.2772e-01, 1.4923e-01, 1.8739e-01,\n",
       "          5.0378e-02, 1.5064e-01, 1.4057e-01, 4.2562e-02, 1.2093e-01,\n",
       "          1.0993e-01, 4.2387e-02, 4.3750e-04, 1.5363e-01, 8.8847e-02,\n",
       "          3.0839e-02, 3.9827e-02, 7.8995e-02, 1.5313e-01, 1.6900e-01,\n",
       "          2.1877e-01, 2.0510e-01, 1.1723e-01, 7.5061e-02, 1.7703e-01,\n",
       "          1.3911e-03, 1.3415e-01, 2.8010e-03, 2.5438e-01, 7.7316e-03,\n",
       "          1.3216e-01, 6.9902e-02, 6.9192e-02, 2.1930e-02, 4.5615e-03,\n",
       "          9.5422e-02, 2.5211e-01, 1.1934e-01, 2.5061e-01, 1.9480e-01,\n",
       "          7.1964e-02, 4.4211e-02, 1.4612e-01, 1.0068e-02, 1.0688e-02,\n",
       "          1.9405e-01, 1.0548e-02, 1.6861e-01, 7.8252e-02, 7.2342e-02,\n",
       "          3.9921e-02, 1.8602e-02, 1.0877e-01, 1.7327e-01, 8.7143e-02],\n",
       "         [5.8462e-02, 1.2743e-01, 5.2187e-02, 4.1330e-02, 2.2256e-01,\n",
       "          1.0144e-01, 3.0605e-01, 2.4059e-03, 5.1992e-02, 2.5845e-02,\n",
       "          8.6662e-02, 3.5261e-01, 2.9076e-01, 1.0610e-02, 1.8173e-01,\n",
       "          3.2539e-02, 2.3863e-01, 3.4125e-02, 1.7856e-01, 1.7542e-01,\n",
       "          2.6222e-01, 1.3471e-01, 1.2642e-02, 2.3896e-01, 1.0244e-01,\n",
       "          3.2353e-01, 5.1614e-02, 1.6263e-02, 1.7159e-01, 2.7805e-02,\n",
       "          3.7577e-01, 1.2449e-01, 1.9791e-02, 3.5166e-02, 2.2449e-02,\n",
       "          7.5339e-02, 1.7579e-01, 5.9969e-02, 9.7946e-02, 8.8695e-02,\n",
       "          1.9080e-01, 6.0882e-02, 1.0328e-01, 3.0189e-01, 3.8596e-02,\n",
       "          8.9115e-02, 2.4520e-02, 4.5893e-02, 9.6994e-02, 2.2614e-01,\n",
       "          2.4373e-01, 3.5318e-02, 1.1156e-01, 1.8730e-01, 6.6613e-02,\n",
       "          1.4946e-01, 9.1747e-02, 8.9571e-02, 1.6606e-01, 3.0575e-02,\n",
       "          1.7245e-01, 1.6786e-01, 3.9303e-02, 1.6874e-02, 4.4335e-01,\n",
       "          5.3219e-02, 1.7448e-01, 7.7948e-02, 7.4683e-02, 1.3268e-01,\n",
       "          2.5337e-01, 3.3886e-02, 1.1725e-01, 1.9328e-03, 2.8893e-01,\n",
       "          3.8252e-02, 4.7047e-02, 3.7178e-02, 1.1257e-01, 1.6757e-01,\n",
       "          3.5335e-02, 1.4788e-02, 2.9819e-02, 1.8126e-01, 1.5915e-01,\n",
       "          3.6247e-02, 1.0721e-02, 8.4539e-02, 1.0525e-01, 1.4987e-01,\n",
       "          1.6486e-01, 3.4193e-01, 3.4894e-02, 3.3163e-02, 8.3226e-03,\n",
       "          2.0552e-01, 1.2864e-01, 2.5358e-02, 1.8424e-01, 1.2019e-01],\n",
       "         [9.0524e-02, 1.5648e-01, 2.8990e-01, 1.0282e-01, 1.2783e-01,\n",
       "          4.5210e-02, 4.4478e-02, 7.1817e-02, 1.1767e-01, 1.8543e-02,\n",
       "          6.9515e-02, 9.4772e-02, 1.3010e-01, 9.2189e-02, 4.1278e-02,\n",
       "          6.0552e-02, 1.0034e-02, 7.3001e-02, 1.5949e-02, 5.3574e-02,\n",
       "          8.1453e-02, 1.0843e-02, 4.4292e-02, 3.2011e-02, 1.2723e-01,\n",
       "          4.8926e-02, 1.0514e-01, 1.3560e-02, 9.7454e-02, 4.4805e-02,\n",
       "          1.9058e-02, 3.8055e-02, 1.6845e-01, 3.6577e-03, 3.5085e-01,\n",
       "          4.5666e-02, 2.1741e-01, 2.5895e-02, 1.5739e-01, 1.5941e-02,\n",
       "          6.3332e-02, 9.4820e-02, 3.9861e-03, 4.6284e-02, 5.1412e-02,\n",
       "          3.0825e-02, 9.0955e-02, 4.7195e-02, 2.1557e-02, 1.6295e-01,\n",
       "          4.7057e-02, 7.4765e-02, 5.5554e-02, 1.9603e-01, 1.0107e-01,\n",
       "          2.4237e-01, 1.4398e-01, 2.6373e-01, 8.1183e-02, 8.2299e-03,\n",
       "          2.3093e-01, 1.2434e-02, 9.8373e-02, 3.0990e-01, 1.7705e-02,\n",
       "          2.4543e-01, 1.8921e-01, 1.2122e-02, 1.3180e-01, 1.2271e-02,\n",
       "          1.0081e-01, 1.4346e-02, 9.4330e-02, 1.7328e-01, 9.0955e-02,\n",
       "          4.8302e-02, 1.8652e-01, 1.3515e-01, 5.8046e-02, 1.7529e-01,\n",
       "          1.0099e-01, 1.6723e-02, 1.2786e-02, 6.4585e-03, 3.9189e-02,\n",
       "          1.2212e-01, 3.6371e-01, 1.4553e-01, 2.5221e-02, 2.2059e-01,\n",
       "          7.9363e-02, 1.9470e-01, 6.3360e-02, 3.3871e-02, 3.3190e-02,\n",
       "          1.6409e-01, 3.1321e-02, 1.2623e-01, 1.7333e-01, 2.6610e-01]]],\n",
       "       dtype=torch.float64)"
      ]
     },
     "execution_count": 22,
     "metadata": {},
     "output_type": "execute_result"
    }
   ],
   "source": [
    "X_sim = walk(polytope=simplex_sim,\n",
    "        X0 = x0_sim,  \n",
    "        z=100, \n",
    "        T=1, \n",
    "        warm=0,\n",
    "        thinning=10000, \n",
    "        device= None, \n",
    "        seed=None,\n",
    "        verbosity=2\n",
    ")\n",
    "X_sim"
   ]
  },
  {
   "cell_type": "code",
   "execution_count": 23,
   "metadata": {},
   "outputs": [
    {
     "data": {
      "text/plain": [
       "torch.Size([1, 10, 100])"
      ]
     },
     "execution_count": 23,
     "metadata": {},
     "output_type": "execute_result"
    }
   ],
   "source": [
    "X_sim.shape"
   ]
  },
  {
   "cell_type": "code",
   "execution_count": 37,
   "metadata": {},
   "outputs": [
    {
     "name": "stdout",
     "output_type": "stream",
     "text": [
      "Infinite:  tensor(0)\n",
      "Nans:   tensor(0)\n",
      "Inequality violation:   tensor(938)\n",
      "Inequality violation with tol 1e-10:   tensor(0)\n"
     ]
    }
   ],
   "source": [
    "tol = 1e-10\n",
    "print('Infinite: ', (~torch.isfinite(X)).sum())\n",
    "print('Nans:  ',(torch.isnan(X)).sum())\n",
    "print('Inequality violation:  ',(X.sum(1)!=1.0).sum())\n",
    "print(f'Inequality violation with tol {tol}:  ',((X.sum(1)- 1.0).abs()>tol).sum())"
   ]
  }
 ],
 "metadata": {
  "kernelspec": {
   "display_name": ".venv",
   "language": "python",
   "name": "python3"
  },
  "language_info": {
   "codemirror_mode": {
    "name": "ipython",
    "version": 3
   },
   "file_extension": ".py",
   "mimetype": "text/x-python",
   "name": "python",
   "nbconvert_exporter": "python",
   "pygments_lexer": "ipython3",
   "version": "3.11.6"
  }
 },
 "nbformat": 4,
 "nbformat_minor": 2
}
