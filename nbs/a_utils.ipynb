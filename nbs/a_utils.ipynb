{
 "cells": [
  {
   "cell_type": "markdown",
   "metadata": {},
   "source": [
    "# Utils"
   ]
  },
  {
   "cell_type": "code",
   "execution_count": 1,
   "metadata": {},
   "outputs": [],
   "source": [
    "#| default_exp utils"
   ]
  },
  {
   "cell_type": "code",
   "execution_count": 2,
   "metadata": {},
   "outputs": [],
   "source": [
    "#| export\n",
    "import torch\n",
    "\n",
    "from mhar.polytope import Polytope, NFDPolytope\n",
    "from mhar.inner_point import ChebyshevCenter"
   ]
  },
  {
   "cell_type": "code",
   "execution_count": 3,
   "metadata": {},
   "outputs": [],
   "source": [
    "#| export\n",
    "\n",
    "from typing import Union\n",
    "\n",
    "\n",
    "class Hypercube(Polytope):\n",
    "    \n",
    "    def __init__(self,\n",
    "                 n:int=None,\n",
    "                 dtype=torch.float16, \n",
    "                 copy: bool = False, \n",
    "                 requires_grad: bool = False) -> None:\n",
    "        \n",
    "        A_in = torch.cat((torch.eye(n), torch.eye(n) * -1.0), dim=0).to(dtype)\n",
    "        b_in = torch.ones(2 * n, dtype=torch.float32).view(-1, 1)        \n",
    "        super().__init__(A_in, b_in, dtype, copy, requires_grad)"
   ]
  },
  {
   "cell_type": "code",
   "execution_count": 4,
   "metadata": {},
   "outputs": [
    {
     "name": "stdout",
     "output_type": "stream",
     "text": [
      "\n",
      "Simplex Status for the Chebyshev Center\n",
      " Optimization proceeding nominally.\n"
     ]
    },
    {
     "name": "stderr",
     "output_type": "stream",
     "text": [
      "/home/uumami/sonder.art/mhar/mhar/polytope.py:35: UserWarning: The object will not create a copy of the tensors, so modifications will be reflected in the object\n",
      "  warnings.warn('The object will not create a copy of the tensors, so modifications will be reflected in the object')\n"
     ]
    }
   ],
   "source": [
    "hypercube = Hypercube(3,\n",
    "                      dtype=torch.float32\n",
    "                      )\n",
    "x0 = ChebyshevCenter(hypercube)"
   ]
  }
 ],
 "metadata": {
  "kernelspec": {
   "display_name": ".venv",
   "language": "python",
   "name": "python3"
  },
  "language_info": {
   "codemirror_mode": {
    "name": "ipython",
    "version": 3
   },
   "file_extension": ".py",
   "mimetype": "text/x-python",
   "name": "python",
   "nbconvert_exporter": "python",
   "pygments_lexer": "ipython3",
   "version": "3.11.5"
  }
 },
 "nbformat": 4,
 "nbformat_minor": 2
}
